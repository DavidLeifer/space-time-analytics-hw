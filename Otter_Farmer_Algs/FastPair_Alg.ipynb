{
 "cells": [
  {
   "cell_type": "code",
   "execution_count": 3,
   "metadata": {
    "collapsed": true
   },
   "outputs": [],
   "source": [
    "from fastpair import FastPair\n",
    "import random\n",
    "def rand_tuple(dim=2):\n",
    "    return tuple([random.random() for _ in range(dim)])"
   ]
  },
  {
   "cell_type": "code",
   "execution_count": 5,
   "metadata": {
    "collapsed": false
   },
   "outputs": [
    {
     "data": {
      "text/plain": [
       "<fastpair.base.FastPair at 0x109f906d0>"
      ]
     },
     "execution_count": 5,
     "metadata": {},
     "output_type": "execute_result"
    }
   ],
   "source": [
    "points = [rand_tuple(10) for _ in range(50)]\n",
    "fp = FastPair()\n",
    "fp.build(points)  # Add points all at once and build conga line to start"
   ]
  },
  {
   "cell_type": "code",
   "execution_count": 7,
   "metadata": {
    "collapsed": false
   },
   "outputs": [
    {
     "data": {
      "text/plain": [
       "(0.5522721130988677,\n",
       " ((0.6939364874436608,\n",
       "   0.5291851752753942,\n",
       "   0.9917174451124886,\n",
       "   0.37400200172658016,\n",
       "   0.3944909863757694,\n",
       "   0.42426150258509865,\n",
       "   0.9184722040348755,\n",
       "   0.8733690908419037,\n",
       "   0.3646832172328477,\n",
       "   0.4140167714645364),\n",
       "  (0.7525425016648648,\n",
       "   0.4435301387818963,\n",
       "   0.9225806606509311,\n",
       "   0.3032137108987927,\n",
       "   0.567021857016439,\n",
       "   0.2835867788922467,\n",
       "   0.9811102771869412,\n",
       "   0.6304959231656777,\n",
       "   0.12200365792262624,\n",
       "   0.7502928606244825)))"
      ]
     },
     "execution_count": 7,
     "metadata": {},
     "output_type": "execute_result"
    }
   ],
   "source": [
    "fp += rand_tuple(10)\n",
    "fp += rand_tuple(10)\n",
    "\n",
    "# This is the 'FastPair' algorithm, should be fast for large n\n",
    "fp.closest_pair()"
   ]
  },
  {
   "cell_type": "code",
   "execution_count": 8,
   "metadata": {
    "collapsed": false
   },
   "outputs": [
    {
     "data": {
      "text/plain": [
       "(0.5522721130988677,\n",
       " ((0.6939364874436608,\n",
       "   0.5291851752753942,\n",
       "   0.9917174451124886,\n",
       "   0.37400200172658016,\n",
       "   0.3944909863757694,\n",
       "   0.42426150258509865,\n",
       "   0.9184722040348755,\n",
       "   0.8733690908419037,\n",
       "   0.3646832172328477,\n",
       "   0.4140167714645364),\n",
       "  (0.7525425016648648,\n",
       "   0.4435301387818963,\n",
       "   0.9225806606509311,\n",
       "   0.3032137108987927,\n",
       "   0.567021857016439,\n",
       "   0.2835867788922467,\n",
       "   0.9811102771869412,\n",
       "   0.6304959231656777,\n",
       "   0.12200365792262624,\n",
       "   0.7502928606244825)))"
      ]
     },
     "execution_count": 8,
     "metadata": {},
     "output_type": "execute_result"
    }
   ],
   "source": [
    "# There is also a brute-force version, can be fast for smaller n\n",
    "fp.closest_pair_brute_force()"
   ]
  },
  {
   "cell_type": "code",
   "execution_count": null,
   "metadata": {
    "collapsed": false
   },
   "outputs": [],
   "source": []
  },
  {
   "cell_type": "code",
   "execution_count": 10,
   "metadata": {
    "collapsed": false
   },
   "outputs": [
    {
     "data": {
      "text/plain": [
       "False"
      ]
     },
     "execution_count": 10,
     "metadata": {},
     "output_type": "execute_result"
    }
   ],
   "source": [
    "len(fp)\n",
    "rando = rand_tuple(10)\n",
    "points[0] in fp  # True\n",
    "rando in fp  # False"
   ]
  },
  {
   "cell_type": "code",
   "execution_count": 11,
   "metadata": {
    "collapsed": false,
    "scrolled": true
   },
   "outputs": [
    {
     "data": {
      "text/plain": [
       "(0.5522721130988677,\n",
       " ((0.6939364874436608,\n",
       "   0.5291851752753942,\n",
       "   0.9917174451124886,\n",
       "   0.37400200172658016,\n",
       "   0.3944909863757694,\n",
       "   0.42426150258509865,\n",
       "   0.9184722040348755,\n",
       "   0.8733690908419037,\n",
       "   0.3646832172328477,\n",
       "   0.4140167714645364),\n",
       "  (0.7525425016648648,\n",
       "   0.4435301387818963,\n",
       "   0.9225806606509311,\n",
       "   0.3032137108987927,\n",
       "   0.567021857016439,\n",
       "   0.2835867788922467,\n",
       "   0.9811102771869412,\n",
       "   0.6304959231656777,\n",
       "   0.12200365792262624,\n",
       "   0.7502928606244825)))"
      ]
     },
     "execution_count": 11,
     "metadata": {},
     "output_type": "execute_result"
    }
   ],
   "source": [
    "fp()"
   ]
  },
  {
   "cell_type": "code",
   "execution_count": 14,
   "metadata": {
    "collapsed": false
   },
   "outputs": [
    {
     "data": {
      "text/plain": [
       "<generator object <genexpr> at 0x109e25820>"
      ]
     },
     "execution_count": 14,
     "metadata": {},
     "output_type": "execute_result"
    }
   ],
   "source": [
    "fp.sdist(rando)"
   ]
  },
  {
   "cell_type": "code",
   "execution_count": 24,
   "metadata": {
    "collapsed": false
   },
   "outputs": [
    {
     "data": {
      "text/plain": [
       "0"
      ]
     },
     "execution_count": 24,
     "metadata": {},
     "output_type": "execute_result"
    }
   ],
   "source": [
    "for i in range(len(fp)-1):\n",
    "    dist, (a, b) = fp.closest_pair()\n",
    "    fp.merge_closest()\n",
    "len(fp)"
   ]
  },
  {
   "cell_type": "code",
   "execution_count": 25,
   "metadata": {
    "collapsed": false
   },
   "outputs": [],
   "source": [
    "import matplotlib.pyplot as plt\n",
    "\n",
    "points = [rand_tuple(2) for _ in range(50)]  # 2D points\n",
    "fp = FastPair().build(points)\n",
    "dist, (a, b) = fp.closest_pair()\n",
    "\n",
    "plt.figure()\n",
    "plt.scatter(*zip(*fp.points))\n",
    "plt.scatter(*zip(a, b), color=\"red\")\n",
    "plt.title(\"Closest pair is {:.2} units apart.\".format(dist))\n",
    "plt.show()"
   ]
  },
  {
   "cell_type": "code",
   "execution_count": null,
   "metadata": {
    "collapsed": true
   },
   "outputs": [],
   "source": []
  }
 ],
 "metadata": {
  "kernelspec": {
   "display_name": "Python 2",
   "language": "python",
   "name": "python2"
  },
  "language_info": {
   "codemirror_mode": {
    "name": "ipython",
    "version": 2
   },
   "file_extension": ".py",
   "mimetype": "text/x-python",
   "name": "python",
   "nbconvert_exporter": "python",
   "pygments_lexer": "ipython2",
   "version": "2.7.11"
  }
 },
 "nbformat": 4,
 "nbformat_minor": 0
}
