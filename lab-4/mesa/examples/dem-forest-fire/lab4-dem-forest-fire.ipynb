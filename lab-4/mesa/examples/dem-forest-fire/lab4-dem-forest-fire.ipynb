{
 "cells": [
  {
   "cell_type": "markdown",
   "metadata": {},
   "source": [
    "## The Continuous Forest Fire Model \n",
    "\n",
    "### Implementing the ContinuousSpace class from Mesa\n",
    "\n",
    "###### init wall of text\n",
    "\n",
    "This is a rudimentary implementation of the continuous surface argument from Mesa to model forest fires over an arbitrary position. As can be found in the documentation of the space.py file in the mesa directory, this class draws each agent as a point storing the position as a 2D tuple and is based internally on the prior MultiGrid class. The MultiGrid class itself is a Grid that can hold multiple objects. The addition of the ContinuousSpace class speeds up neighborhood lookups, however the addition of more cells slows down movement.\n",
    "\n",
    "We should ~~want~~ need to create a DEM forest fire model that would initialize a DEM as the grid and spread its fire from lower points to higher points, as is consistent with the spread of forest fires since wind usually blows uphill and rising smoke and heat from the lower elevated fire tends to preheat fuel on top for quicker burns. It would also make sense to start the fire towards the bottom or south of these 2D DEM mounds since aspect also plays a role in determining the speed and direction of forest fires due to the amount of available fuel. Additional readings on the subject include:\n",
    "\n",
    "* [Candidates for the Game of Life in Three Dimensions](http://www.complex-systems.com/pdf/01-3-1)\n",
    "* [3D Forest Fire Propagation Simulation](http://ieeexplore.ieee.org/document/4547885/)\n",
    "* [Simulation and visualization of forest fire growth in an integrated 3D virtual geographical environment- a preliminary study](http://ieeexplore.ieee.org/document/6270344/)\n",
    "* [Fire on the Mountain](https://www.youtube.com/watch?v=YAhEi7W1ib0)\n",
    "\n",
    "## Creating a rad data structure\n",
    "\n",
    "A new directory named dem-forest-fire was created in the examples directory of mesa and the files from the forest-fire dir were copied over to dem-forest-fire. A file containing the fake_surface.py def creating a randomly generated, Gaussian smoothed elevation DEM was also included with the thinking that this file would be used to generate a new grid to place additional trees on. However, many of the arguments in the existing framework wouldn't allow this to work. So it might make sense to rewrite this entire library to allow DEMs...\n",
    "\n",
    "But that falls out of the scope of this project. The original model.py file was deleted from the newly created dem-forest-fire dir and a new file called demmodel.py was created. The code from these two files is remarkably similar. The only import that was changed was the mesa/space.py import, taking all of the classes included in that file instead of just the Grid class as was done in the original forest_fire example:"
   ]
  },
  {
   "cell_type": "code",
   "execution_count": 1,
   "metadata": {
    "collapsed": true
   },
   "outputs": [],
   "source": [
    "import random\n",
    "\n",
    "from mesa import Model, Agent\n",
    "from mesa.datacollection import DataCollector\n",
    "\n",
    "from mesa.space import Grid, MultiGrid, ContinuousSpace #might have to edit this\n",
    "\n",
    "from mesa.time import RandomActivation\n",
    "from mesa.batchrunner import BatchRunner\n",
    "\n",
    "from agent import TreeCell\n",
    "#from fake_surface import fake_surface"
   ]
  },
  {
   "cell_type": "markdown",
   "metadata": {},
   "source": [
    "## Initialize stoke and include trees\n",
    "\n",
    "The first section of the self arguments initializes the model parameters as maximum x and y coordinates for space, while torus is set as a boolean for whether the edges loop around. \n",
    "\n",
    "The minimum x and y coordinates are set to default 0 and the grid width and height are set to default 100.\n",
    "\n",
    "Below these are more model parameters that create the cell width and height based on the subtraction of x,y max and min values divided by the grid height and grid width respectively.\n",
    "\n",
    "The schedule is created to add the time component, the grid uses MultiGrid and the previously created grid_width and grid_height parameters. The DataCollector provides a simple way to store information created by the model in three types: model, agent, and table data. Some dictionary wizardry happens and you can eventually put these in pandas DataFrames.\n",
    "\n",
    "The last code part creates a tree in each cell and sets it on fire:"
   ]
  },
  {
   "cell_type": "code",
   "execution_count": 2,
   "metadata": {
    "collapsed": true
   },
   "outputs": [],
   "source": [
    "def __init__(self, x_max, y_max, density, x_min=0, y_min=0, \n",
    "             grid_width=100, grid_height=100):\n",
    "    self.x_min = x_min\n",
    "    self.x_max = x_max\n",
    "    self.density = density\n",
    "    self.width = x_max - x_min\n",
    "    self.y_min = y_min\n",
    "    self.y_max = y_max\n",
    "    self.height = y_max - y_min\n",
    "    self.torus = torus\n",
    "\n",
    "    self.cell_width = (self.x_max - self.x_min) / grid_width\n",
    "    self.cell_height = (self.y_max - self.y_min) / grid_height\n",
    "\n",
    "    self.schedule = RandomActivation(self)\n",
    "    self.grid = MultiGrid(grid_width, grid_height, density)\n",
    "\n",
    "    self.datacollector = DataCollector({\"Fine\": lambda m: self.count_type(m, \"Fine\"),\"On Fire\": lambda m: self.count_type(m, \"On Fire\"),\"Burned Out\": lambda m: self.count_type(m, \"Burned Out\")})\n",
    "\n",
    "    # Place a tree in each cell with Prob = density\n",
    "    for (contents, x, y) in self.grid.coord_iter():\n",
    "        if random.random() < 100:\n",
    "            # Create a tree\n",
    "            new_tree = TreeCell((x, y), self)\n",
    "            # Set all trees in the first column on fire.\n",
    "            if x == 0:\n",
    "                new_tree.condition = \"On Fire\"\n",
    "            self.grid._place_agent((x, y), new_tree)\n",
    "            self.schedule.add(new_tree)\n",
    "    self.running = True"
   ]
  },
  {
   "cell_type": "markdown",
   "metadata": {},
   "source": [
    "The next def is a straightforward stepping argument:"
   ]
  },
  {
   "cell_type": "code",
   "execution_count": 3,
   "metadata": {
    "collapsed": true
   },
   "outputs": [],
   "source": [
    "def step(self):\n",
    "    \"\"\"\n",
    "    Advance the model by one step.\n",
    "    \"\"\"\n",
    "    self.schedule.step()\n",
    "    self.datacollector.collect(self)\n",
    "\n",
    "    # Halt if no more fire\n",
    "    if self.count_type(self, \"On Fire\") == 0:\n",
    "        self.running = False"
   ]
  },
  {
   "cell_type": "markdown",
   "metadata": {},
   "source": [
    "The last part of demmodel.py is a static method to keep track of the burn status of each type of tree in the forest:"
   ]
  },
  {
   "cell_type": "code",
   "execution_count": 4,
   "metadata": {
    "collapsed": true
   },
   "outputs": [],
   "source": [
    "@staticmethod\n",
    "def count_type(model, tree_condition):\n",
    "    \"\"\"\n",
    "    Helper method to count trees in a given condition in a given model.\n",
    "    \"\"\"\n",
    "    count = 0\n",
    "    for tree in model.schedule.agents:\n",
    "        if tree.condition == tree_condition:\n",
    "            count += 1\n",
    "    return count"
   ]
  },
  {
   "cell_type": "markdown",
   "metadata": {},
   "source": [
    "So to put it all together:"
   ]
  },
  {
   "cell_type": "code",
   "execution_count": 1,
   "metadata": {
    "collapsed": true
   },
   "outputs": [],
   "source": [
    "import random\n",
    "\n",
    "from mesa import Model\n",
    "from mesa.datacollection import DataCollector\n",
    "from mesa.space import Grid, MultiGrid, ContinuousSpace #might have to edit this\n",
    "from mesa.time import RandomActivation\n",
    "from mesa.batchrunner import BatchRunner\n",
    "\n",
    "from agent import TreeCell #might have to edit this\n",
    "#from fake_surface import fake_surface\n",
    "\n",
    "class demmodel(Model):\n",
    "\n",
    "    _grid = None\n",
    "    #change torus boolean to density for visualization in the example\n",
    "    def __init__(self, x_max, y_max, torus, x_min=0, y_min=0,\n",
    "                 grid_width=100, grid_height=100):\n",
    "\n",
    "        self.x_min = x_min\n",
    "        self.x_max = x_max\n",
    "        self.torus = torus\n",
    "        #self.density = density\n",
    "        self.width = x_max - x_min\n",
    "        self.y_min = y_min\n",
    "        self.y_max = y_max\n",
    "        self.height = y_max - y_min\n",
    "\n",
    "        self.cell_width = (self.x_max - self.x_min) / grid_width\n",
    "        self.cell_height = (self.y_max - self.y_min) / grid_height\n",
    "\n",
    "\n",
    "        self.schedule = RandomActivation(self)\n",
    "        self.grid = MultiGrid(grid_width, grid_height, torus)\n",
    "\n",
    "        self.datacollector = DataCollector({\"Fine\": lambda m: self.count_type(m, \"Fine\"),\"On Fire\": lambda m: self.count_type(m, \"On Fire\"),\"Burned Out\": lambda m: self.count_type(m, \"Burned Out\")})\n",
    "\n",
    "\n",
    "        # Place a tree in each cell with Prob = density\n",
    "        for (contents, x, y) in self.grid.coord_iter():\n",
    "            if random.random() < torus:\n",
    "                # Create a tree\n",
    "                new_tree = TreeCell((x, y), self)\n",
    "                # Set all trees in the first column on fire.\n",
    "                if x == 0:\n",
    "                    new_tree.condition = \"On Fire\"\n",
    "                self.grid._place_agent((x, y), new_tree)\n",
    "                self.schedule.add(new_tree)\n",
    "        self.running = True\n",
    "\n",
    "    def step(self):\n",
    "        \"\"\"\n",
    "        Advance the model by one step.\n",
    "        \"\"\"\n",
    "        self.schedule.step()\n",
    "        self.datacollector.collect(self)\n",
    "\n",
    "        # Halt if no more fire\n",
    "        if self.count_type(self, \"On Fire\") == 0:\n",
    "            self.running = False\n",
    "\n",
    "    @staticmethod\n",
    "    def count_type(model, tree_condition):\n",
    "        \"\"\"\n",
    "        Helper method to count trees in a given condition in a given model.\n",
    "        \"\"\"\n",
    "        count = 0\n",
    "        for tree in model.schedule.agents:\n",
    "            if tree.condition == tree_condition:\n",
    "                count += 1\n",
    "        return count"
   ]
  },
  {
   "cell_type": "markdown",
   "metadata": {},
   "source": [
    "## Analyzing the model\n",
    "\n",
    "In a manner similar to the example, the model will be initialized and results will be drawn. We need to fill out the x_max, y_max, torus, x_min, y_min, grid_width, and grid_height and then run demmodel. A visual is created with matplot lib using the pandas dataframe."
   ]
  },
  {
   "cell_type": "code",
   "execution_count": 2,
   "metadata": {
    "collapsed": false
   },
   "outputs": [],
   "source": [
    "import numpy as np\n",
    "from numpy.random import uniform\n",
    "from numpy import multiply\n",
    "from scipy.ndimage.filters import gaussian_filter\n",
    "import matplotlib.pyplot as plt\n",
    "%matplotlib inline\n",
    "fire = demmodel(100, 100, .6, 0, 0, 100, 100)\n",
    "fire.run_model()"
   ]
  },
  {
   "cell_type": "code",
   "execution_count": 3,
   "metadata": {
    "collapsed": false
   },
   "outputs": [
    {
     "data": {
      "text/plain": [
       "<matplotlib.axes._subplots.AxesSubplot at 0x7f656834c358>"
      ]
     },
     "execution_count": 3,
     "metadata": {},
     "output_type": "execute_result"
    },
    {
     "data": {
      "image/png": "iVBORw0KGgoAAAANSUhEUgAAAhYAAAFkCAYAAAB8RXKEAAAABHNCSVQICAgIfAhkiAAAAAlwSFlz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\nAUcBAKxIad9GAAAAAElFTkSuQmCC\n",
      "text/plain": [
       "<matplotlib.figure.Figure at 0x7f65917ed9b0>"
      ]
     },
     "metadata": {},
     "output_type": "display_data"
    }
   ],
   "source": [
    "results = fire.datacollector.get_model_vars_dataframe()\n",
    "results.plot()"
   ]
  },
  {
   "cell_type": "markdown",
   "metadata": {},
   "source": [
    "The fire burned out after 17 steps, incinerating all trees prior to that point. They kind of just have to take one for the forest to fertilize the next generation of trees.\n",
    "\n",
    "Let's change the density to see an alternative hypothetical universe."
   ]
  },
  {
   "cell_type": "code",
   "execution_count": 4,
   "metadata": {
    "collapsed": false
   },
   "outputs": [],
   "source": [
    "fire = demmodel(100, 100, .8, 0, 0, 100, 100)\n",
    "fire.run_model()"
   ]
  },
  {
   "cell_type": "code",
   "execution_count": 5,
   "metadata": {
    "collapsed": false
   },
   "outputs": [
    {
     "data": {
      "text/plain": [
       "<matplotlib.axes._subplots.AxesSubplot at 0x7f65646d29e8>"
      ]
     },
     "execution_count": 5,
     "metadata": {},
     "output_type": "execute_result"
    },
    {
     "data": {
      "image/png": "iVBORw0KGgoAAAANSUhEUgAAAg4AAAFkCAYAAABIPLOYAAAABHNCSVQICAgIfAhkiAAAAAlwSFlz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\nVdUlC48AyEUAAAAASUVORK5CYII=\n",
      "text/plain": [
       "<matplotlib.figure.Figure at 0x7f65917ed898>"
      ]
     },
     "metadata": {},
     "output_type": "display_data"
    }
   ],
   "source": [
    "results = fire.datacollector.get_model_vars_dataframe()\n",
    "results.plot()"
   ]
  },
  {
   "cell_type": "markdown",
   "metadata": {
    "collapsed": true
   },
   "source": [
    "![Lit af fam](lit-fam.jpg \"lit af\")\n",
    "\n",
    "## Batchruns\n",
    "\n",
    "The python hometesting kit Mesa provides a built-in object to fulfill all of the batch data testing and exploratory needs. \n",
    "\n",
    "Let's check it out!"
   ]
  },
  {
   "cell_type": "code",
   "execution_count": 12,
   "metadata": {
    "collapsed": false
   },
   "outputs": [],
   "source": [
    "param_set = dict(x_max=1, # Height and width are constant\n",
    "                 y_max=1,\n",
    "                 torus=np.linspace(0,1,101)[1:],\n",
    "                 x_min=0,\n",
    "                 y_min=0,\n",
    "                 grid_width=100,\n",
    "                 grid_height=100)"
   ]
  },
  {
   "cell_type": "code",
   "execution_count": 13,
   "metadata": {
    "collapsed": true
   },
   "outputs": [],
   "source": [
    "# At the end of each model run, calculate the fraction of trees which are Burned Out\n",
    "model_reporter = {\"BurnedOut\": lambda m: (demmodel.count_type(m, \"Burned Out\") / \n",
    "                                          (m.schedule.get_agent_count())) }"
   ]
  },
  {
   "cell_type": "code",
   "execution_count": 14,
   "metadata": {
    "collapsed": false
   },
   "outputs": [],
   "source": [
    "# Create the batch runner\n",
    "param_run = BatchRunner(demmodel, param_set, model_reporters=model_reporter)"
   ]
  },
  {
   "cell_type": "code",
   "execution_count": 15,
   "metadata": {
    "collapsed": false
   },
   "outputs": [
    {
     "name": "stderr",
     "output_type": "stream",
     "text": [
      "100%|██████████| 100/100 [00:44<00:00,  1.23it/s]\n"
     ]
    }
   ],
   "source": [
    "param_run.run_all()"
   ]
  },
  {
   "cell_type": "code",
   "execution_count": 16,
   "metadata": {
    "collapsed": false
   },
   "outputs": [
    {
     "data": {
      "text/html": [
       "<div>\n",
       "<table border=\"1\" class=\"dataframe\">\n",
       "  <thead>\n",
       "    <tr style=\"text-align: right;\">\n",
       "      <th></th>\n",
       "      <th>BurnedOut</th>\n",
       "      <th>Run</th>\n",
       "      <th>grid_height</th>\n",
       "      <th>grid_width</th>\n",
       "      <th>torus</th>\n",
       "      <th>x_max</th>\n",
       "      <th>x_min</th>\n",
       "      <th>y_max</th>\n",
       "      <th>y_min</th>\n",
       "    </tr>\n",
       "  </thead>\n",
       "  <tbody>\n",
       "    <tr>\n",
       "      <th>0</th>\n",
       "      <td>1.000000</td>\n",
       "      <td>79</td>\n",
       "      <td>100</td>\n",
       "      <td>100</td>\n",
       "      <td>0.80</td>\n",
       "      <td>1</td>\n",
       "      <td>0</td>\n",
       "      <td>1</td>\n",
       "      <td>0</td>\n",
       "    </tr>\n",
       "    <tr>\n",
       "      <th>1</th>\n",
       "      <td>1.000000</td>\n",
       "      <td>96</td>\n",
       "      <td>100</td>\n",
       "      <td>100</td>\n",
       "      <td>0.97</td>\n",
       "      <td>1</td>\n",
       "      <td>0</td>\n",
       "      <td>1</td>\n",
       "      <td>0</td>\n",
       "    </tr>\n",
       "    <tr>\n",
       "      <th>2</th>\n",
       "      <td>0.107181</td>\n",
       "      <td>27</td>\n",
       "      <td>100</td>\n",
       "      <td>100</td>\n",
       "      <td>0.28</td>\n",
       "      <td>1</td>\n",
       "      <td>0</td>\n",
       "      <td>1</td>\n",
       "      <td>0</td>\n",
       "    </tr>\n",
       "    <tr>\n",
       "      <th>3</th>\n",
       "      <td>0.050840</td>\n",
       "      <td>22</td>\n",
       "      <td>100</td>\n",
       "      <td>100</td>\n",
       "      <td>0.23</td>\n",
       "      <td>1</td>\n",
       "      <td>0</td>\n",
       "      <td>1</td>\n",
       "      <td>0</td>\n",
       "    </tr>\n",
       "    <tr>\n",
       "      <th>4</th>\n",
       "      <td>0.999707</td>\n",
       "      <td>67</td>\n",
       "      <td>100</td>\n",
       "      <td>100</td>\n",
       "      <td>0.68</td>\n",
       "      <td>1</td>\n",
       "      <td>0</td>\n",
       "      <td>1</td>\n",
       "      <td>0</td>\n",
       "    </tr>\n",
       "  </tbody>\n",
       "</table>\n",
       "</div>"
      ],
      "text/plain": [
       "   BurnedOut  Run  grid_height  grid_width  torus  x_max  x_min  y_max  y_min\n",
       "0   1.000000   79          100         100   0.80      1      0      1      0\n",
       "1   1.000000   96          100         100   0.97      1      0      1      0\n",
       "2   0.107181   27          100         100   0.28      1      0      1      0\n",
       "3   0.050840   22          100         100   0.23      1      0      1      0\n",
       "4   0.999707   67          100         100   0.68      1      0      1      0"
      ]
     },
     "execution_count": 16,
     "metadata": {},
     "output_type": "execute_result"
    }
   ],
   "source": [
    "df = param_run.get_model_vars_dataframe()\n",
    "df.head()"
   ]
  },
  {
   "cell_type": "code",
   "execution_count": 17,
   "metadata": {
    "collapsed": false,
    "scrolled": true
   },
   "outputs": [
    {
     "data": {
      "text/plain": [
       "(0, 1)"
      ]
     },
     "execution_count": 17,
     "metadata": {},
     "output_type": "execute_result"
    },
    {
     "data": {
      "image/png": "iVBORw0KGgoAAAANSUhEUgAAAhcAAAFkCAYAAACThxm6AAAABHNCSVQICAgIfAhkiAAAAAlwSFlz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\nkrL63xMxmigYXmpYAAAAAElFTkSuQmCC\n",
      "text/plain": [
       "<matplotlib.figure.Figure at 0x7f6563384ef0>"
      ]
     },
     "metadata": {},
     "output_type": "display_data"
    }
   ],
   "source": [
    "plt.scatter(df.torus, df.BurnedOut)\n",
    "plt.xlim(0,1)"
   ]
  },
  {
   "cell_type": "markdown",
   "metadata": {
    "collapsed": true
   },
   "source": [
    "The critical lit value occurs around .3 where the trees begin to be burned, which is sooner than the Forest Fire Model included in the examples. Since this batch run only runs once per value, we will need to increase iterations for each value to 5 to provide additional information about the model."
   ]
  },
  {
   "cell_type": "code",
   "execution_count": 19,
   "metadata": {
    "collapsed": false
   },
   "outputs": [
    {
     "data": {
      "text/plain": [
       "(0, 1)"
      ]
     },
     "execution_count": 19,
     "metadata": {},
     "output_type": "execute_result"
    },
    {
     "data": {
      "image/png": "iVBORw0KGgoAAAANSUhEUgAAAhcAAAFkCAYAAACThxm6AAAABHNCSVQICAgIfAhkiAAAAAlwSFlz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\nKQUXIiIiEikFFyIiIhIpBRciIiISqf8fosj1ru27gPMAAAAASUVORK5CYII=\n",
      "text/plain": [
       "<matplotlib.figure.Figure at 0x7f6563c6da58>"
      ]
     },
     "metadata": {},
     "output_type": "display_data"
    }
   ],
   "source": [
    "param_run = BatchRunner(demmodel, param_set, iterations=5, model_reporters=model_reporter)\n",
    "param_run.run_all()\n",
    "df = param_run.get_model_vars_dataframe()\n",
    "plt.scatter(df.torus, df.BurnedOut)\n",
    "\n",
    "plt.xlim(0,1)"
   ]
  },
  {
   "cell_type": "markdown",
   "metadata": {
    "collapsed": true
   },
   "source": [
    "## Closing remarks\n",
    "\n",
    "The critical lit factor of using the ContinuousSpace class in the demmodel.py occured sooner then using the standalone Grid class in the original forest_fire example by about .2 steps in time. The litness of course conserves time in this continuous model and still serves to effectively reduce the forest to a smoldering pile of ashes, however mobility is severely limited.\n",
    "\n",
    "This serves as a good exercise in exploring data structures and creates a visual for types of basic search algorithms commonly employed."
   ]
  },
 ],
 "metadata": {
  "anaconda-cloud": {},
  "kernelspec": {
   "display_name": "Python [default]",
   "language": "python",
   "name": "python3"
  },
  "language_info": {
   "codemirror_mode": {
    "name": "ipython",
    "version": 3
   },
   "file_extension": ".py",
   "mimetype": "text/x-python",
   "name": "python",
   "nbconvert_exporter": "python",
   "pygments_lexer": "ipython3",
   "version": "3.5.2"
  }
 },
 "nbformat": 4,
 "nbformat_minor": 1
}
