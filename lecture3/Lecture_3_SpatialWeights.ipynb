{
 "cells": [
  {
   "cell_type": "code",
   "execution_count": 2,
   "metadata": {
    "collapsed": false
   },
   "outputs": [],
   "source": [
    "import pysal as ps\n",
    "import numpy as np"
   ]
  },
  {
   "cell_type": "code",
   "execution_count": 3,
   "metadata": {
    "collapsed": true
   },
   "outputs": [],
   "source": [
    "shp_path = \"/Users/davidleifer/Documents/space-time-analytics/lecture3/content/data/texas.shp\""
   ]
  },
  {
   "cell_type": "code",
   "execution_count": 4,
   "metadata": {
    "collapsed": true
   },
   "outputs": [],
   "source": [
    "qW = ps.queen_from_shapefile(shp_path)\n",
    "dataframe = ps.pdio.read_files(shp_path)"
   ]
  },
  {
   "cell_type": "code",
   "execution_count": 5,
   "metadata": {
    "collapsed": false
   },
   "outputs": [
    {
     "data": {
      "text/plain": [
       "{0: 1.0, 3: 1.0, 5: 1.0, 6: 1.0, 7: 1.0}"
      ]
     },
     "execution_count": 5,
     "metadata": {},
     "output_type": "execute_result"
    }
   ],
   "source": [
    "qW[4]"
   ]
  },
  {
   "cell_type": "code",
   "execution_count": 6,
   "metadata": {
    "collapsed": true
   },
   "outputs": [],
   "source": [
    "self_and_neighbors = [4]\n",
    "self_and_neighbors.extend(qW.neighbors[4])"
   ]
  },
  {
   "cell_type": "code",
   "execution_count": 7,
   "metadata": {
    "collapsed": true
   },
   "outputs": [],
   "source": [
    "Wmatrix, ids = qW.full()\n"
   ]
  },
  {
   "cell_type": "code",
   "execution_count": 8,
   "metadata": {
    "collapsed": false
   },
   "outputs": [
    {
     "data": {
      "text/plain": [
       "array([[ 0.,  0.,  0., ...,  0.,  0.,  0.],\n",
       "       [ 0.,  0.,  1., ...,  0.,  0.,  0.],\n",
       "       [ 0.,  1.,  0., ...,  0.,  0.,  0.],\n",
       "       ..., \n",
       "       [ 0.,  0.,  0., ...,  0.,  1.,  1.],\n",
       "       [ 0.,  0.,  0., ...,  1.,  0.,  1.],\n",
       "       [ 0.,  0.,  0., ...,  1.,  1.,  0.]])"
      ]
     },
     "execution_count": 8,
     "metadata": {},
     "output_type": "execute_result"
    }
   ],
   "source": [
    "Wmatrix"
   ]
  },
  {
   "cell_type": "code",
   "execution_count": 10,
   "metadata": {
    "collapsed": false
   },
   "outputs": [
    {
     "data": {
      "text/plain": [
       "5.0"
      ]
     },
     "execution_count": 10,
     "metadata": {},
     "output_type": "execute_result"
    }
   ],
   "source": [
    "n_neighbors = Wmatrix.sum(axis=1) # how many neighbors each region has\n",
    "n_neighbors[4]"
   ]
  },
  {
   "cell_type": "code",
   "execution_count": 11,
   "metadata": {
    "collapsed": false
   },
   "outputs": [
    {
     "data": {
      "text/plain": [
       "5"
      ]
     },
     "execution_count": 11,
     "metadata": {},
     "output_type": "execute_result"
    }
   ],
   "source": [
    "qW.cardinalities[4]\n"
   ]
  },
  {
   "cell_type": "code",
   "execution_count": 12,
   "metadata": {
    "collapsed": true
   },
   "outputs": [],
   "source": [
    "qW.transform = 'r'"
   ]
  },
  {
   "cell_type": "code",
   "execution_count": 13,
   "metadata": {
    "collapsed": false
   },
   "outputs": [
    {
     "data": {
      "text/plain": [
       "array([ 1.,  1.,  1.,  1.,  1.,  1.,  1.,  1.,  1.,  1.,  1.,  1.,  1.,\n",
       "        1.,  1.,  1.,  1.,  1.,  1.,  1.,  1.,  1.,  1.,  1.,  1.,  1.,\n",
       "        1.,  1.,  1.,  1.,  1.,  1.,  1.,  1.,  1.,  1.,  1.,  1.,  1.,\n",
       "        1.,  1.,  1.,  1.,  1.,  1.,  1.,  1.,  1.,  1.,  1.,  1.,  1.,\n",
       "        1.,  1.,  1.,  1.,  1.,  1.,  1.,  1.,  1.,  1.,  1.,  1.,  1.,\n",
       "        1.,  1.,  1.,  1.,  1.,  1.,  1.,  1.,  1.,  1.,  1.,  1.,  1.,\n",
       "        1.,  1.,  1.,  1.,  1.,  1.,  1.,  1.,  1.,  1.,  1.,  1.,  1.,\n",
       "        1.,  1.,  1.,  1.,  1.,  1.,  1.,  1.,  1.,  1.,  1.,  1.,  1.,\n",
       "        1.,  1.,  1.,  1.,  1.,  1.,  1.,  1.,  1.,  1.,  1.,  1.,  1.,\n",
       "        1.,  1.,  1.,  1.,  1.,  1.,  1.,  1.,  1.,  1.,  1.,  1.,  1.,\n",
       "        1.,  1.,  1.,  1.,  1.,  1.,  1.,  1.,  1.,  1.,  1.,  1.,  1.,\n",
       "        1.,  1.,  1.,  1.,  1.,  1.,  1.,  1.,  1.,  1.,  1.,  1.,  1.,\n",
       "        1.,  1.,  1.,  1.,  1.,  1.,  1.,  1.,  1.,  1.,  1.,  1.,  1.,\n",
       "        1.,  1.,  1.,  1.,  1.,  1.,  1.,  1.,  1.,  1.,  1.,  1.,  1.,\n",
       "        1.,  1.,  1.,  1.,  1.,  1.,  1.,  1.,  1.,  1.,  1.,  1.,  1.,\n",
       "        1.,  1.,  1.,  1.,  1.,  1.,  1.,  1.,  1.,  1.,  1.,  1.,  1.,\n",
       "        1.,  1.,  1.,  1.,  1.,  1.,  1.,  1.,  1.,  1.,  1.,  1.,  1.,\n",
       "        1.,  1.,  1.,  1.,  1.,  1.,  1.,  1.,  1.,  1.,  1.,  1.,  1.,\n",
       "        1.,  1.,  1.,  1.,  1.,  1.,  1.,  1.,  1.,  1.,  1.,  1.,  1.,\n",
       "        1.,  1.,  1.,  1.,  1.,  1.,  1.])"
      ]
     },
     "execution_count": 13,
     "metadata": {},
     "output_type": "execute_result"
    }
   ],
   "source": [
    "Wmatrix, ids = qW.full()\n",
    "Wmatrix.sum(axis=1)"
   ]
  },
  {
   "cell_type": "code",
   "execution_count": 14,
   "metadata": {
    "collapsed": false
   },
   "outputs": [
    {
     "data": {
      "text/html": [
       "<div>\n",
       "<table border=\"1\" class=\"dataframe\">\n",
       "  <thead>\n",
       "    <tr style=\"text-align: right;\">\n",
       "      <th></th>\n",
       "      <th>NAME</th>\n",
       "      <th>STATE_NAME</th>\n",
       "      <th>STATE_FIPS</th>\n",
       "      <th>CNTY_FIPS</th>\n",
       "      <th>FIPS</th>\n",
       "      <th>STFIPS</th>\n",
       "      <th>COFIPS</th>\n",
       "      <th>FIPSNO</th>\n",
       "      <th>SOUTH</th>\n",
       "      <th>HR60</th>\n",
       "      <th>...</th>\n",
       "      <th>BLK90</th>\n",
       "      <th>GI59</th>\n",
       "      <th>GI69</th>\n",
       "      <th>GI79</th>\n",
       "      <th>GI89</th>\n",
       "      <th>FH60</th>\n",
       "      <th>FH70</th>\n",
       "      <th>FH80</th>\n",
       "      <th>FH90</th>\n",
       "      <th>geometry</th>\n",
       "    </tr>\n",
       "  </thead>\n",
       "  <tbody>\n",
       "    <tr>\n",
       "      <th>0</th>\n",
       "      <td>Lipscomb</td>\n",
       "      <td>Texas</td>\n",
       "      <td>48</td>\n",
       "      <td>295</td>\n",
       "      <td>48295</td>\n",
       "      <td>48</td>\n",
       "      <td>295</td>\n",
       "      <td>48295</td>\n",
       "      <td>1</td>\n",
       "      <td>0.0</td>\n",
       "      <td>...</td>\n",
       "      <td>0.031817</td>\n",
       "      <td>0.286929</td>\n",
       "      <td>0.378219</td>\n",
       "      <td>0.407005</td>\n",
       "      <td>0.373005</td>\n",
       "      <td>6.724512</td>\n",
       "      <td>4.5</td>\n",
       "      <td>3.835360</td>\n",
       "      <td>6.093580</td>\n",
       "      <td>&lt;pysal.cg.shapes.Polygon object at 0x113f13780&gt;</td>\n",
       "    </tr>\n",
       "    <tr>\n",
       "      <th>1</th>\n",
       "      <td>Sherman</td>\n",
       "      <td>Texas</td>\n",
       "      <td>48</td>\n",
       "      <td>421</td>\n",
       "      <td>48421</td>\n",
       "      <td>48</td>\n",
       "      <td>421</td>\n",
       "      <td>48421</td>\n",
       "      <td>1</td>\n",
       "      <td>0.0</td>\n",
       "      <td>...</td>\n",
       "      <td>0.139958</td>\n",
       "      <td>0.288976</td>\n",
       "      <td>0.359377</td>\n",
       "      <td>0.415453</td>\n",
       "      <td>0.378041</td>\n",
       "      <td>5.665722</td>\n",
       "      <td>1.7</td>\n",
       "      <td>3.253796</td>\n",
       "      <td>3.869407</td>\n",
       "      <td>&lt;pysal.cg.shapes.Polygon object at 0x113f137f0&gt;</td>\n",
       "    </tr>\n",
       "    <tr>\n",
       "      <th>2</th>\n",
       "      <td>Dallam</td>\n",
       "      <td>Texas</td>\n",
       "      <td>48</td>\n",
       "      <td>111</td>\n",
       "      <td>48111</td>\n",
       "      <td>48</td>\n",
       "      <td>111</td>\n",
       "      <td>48111</td>\n",
       "      <td>1</td>\n",
       "      <td>0.0</td>\n",
       "      <td>...</td>\n",
       "      <td>2.050906</td>\n",
       "      <td>0.331667</td>\n",
       "      <td>0.385996</td>\n",
       "      <td>0.370037</td>\n",
       "      <td>0.376015</td>\n",
       "      <td>7.546049</td>\n",
       "      <td>7.2</td>\n",
       "      <td>9.471366</td>\n",
       "      <td>14.231738</td>\n",
       "      <td>&lt;pysal.cg.shapes.Polygon object at 0x113f13860&gt;</td>\n",
       "    </tr>\n",
       "    <tr>\n",
       "      <th>3</th>\n",
       "      <td>Hansford</td>\n",
       "      <td>Texas</td>\n",
       "      <td>48</td>\n",
       "      <td>195</td>\n",
       "      <td>48195</td>\n",
       "      <td>48</td>\n",
       "      <td>195</td>\n",
       "      <td>48195</td>\n",
       "      <td>1</td>\n",
       "      <td>0.0</td>\n",
       "      <td>...</td>\n",
       "      <td>0.000000</td>\n",
       "      <td>0.253527</td>\n",
       "      <td>0.357813</td>\n",
       "      <td>0.393938</td>\n",
       "      <td>0.383924</td>\n",
       "      <td>7.591786</td>\n",
       "      <td>4.7</td>\n",
       "      <td>5.542986</td>\n",
       "      <td>7.125457</td>\n",
       "      <td>&lt;pysal.cg.shapes.Polygon object at 0x113f138d0&gt;</td>\n",
       "    </tr>\n",
       "    <tr>\n",
       "      <th>4</th>\n",
       "      <td>Ochiltree</td>\n",
       "      <td>Texas</td>\n",
       "      <td>48</td>\n",
       "      <td>357</td>\n",
       "      <td>48357</td>\n",
       "      <td>48</td>\n",
       "      <td>357</td>\n",
       "      <td>48357</td>\n",
       "      <td>1</td>\n",
       "      <td>0.0</td>\n",
       "      <td>...</td>\n",
       "      <td>0.021911</td>\n",
       "      <td>0.236998</td>\n",
       "      <td>0.352940</td>\n",
       "      <td>0.343949</td>\n",
       "      <td>0.374461</td>\n",
       "      <td>5.172414</td>\n",
       "      <td>4.0</td>\n",
       "      <td>4.758392</td>\n",
       "      <td>9.159159</td>\n",
       "      <td>&lt;pysal.cg.shapes.Polygon object at 0x113f13940&gt;</td>\n",
       "    </tr>\n",
       "  </tbody>\n",
       "</table>\n",
       "<p>5 rows × 70 columns</p>\n",
       "</div>"
      ],
      "text/plain": [
       "        NAME STATE_NAME STATE_FIPS CNTY_FIPS   FIPS  STFIPS  COFIPS  FIPSNO  \\\n",
       "0   Lipscomb      Texas         48       295  48295      48     295   48295   \n",
       "1    Sherman      Texas         48       421  48421      48     421   48421   \n",
       "2     Dallam      Texas         48       111  48111      48     111   48111   \n",
       "3   Hansford      Texas         48       195  48195      48     195   48195   \n",
       "4  Ochiltree      Texas         48       357  48357      48     357   48357   \n",
       "\n",
       "   SOUTH  HR60                       ...                            BLK90  \\\n",
       "0      1   0.0                       ...                         0.031817   \n",
       "1      1   0.0                       ...                         0.139958   \n",
       "2      1   0.0                       ...                         2.050906   \n",
       "3      1   0.0                       ...                         0.000000   \n",
       "4      1   0.0                       ...                         0.021911   \n",
       "\n",
       "       GI59      GI69      GI79      GI89      FH60  FH70      FH80  \\\n",
       "0  0.286929  0.378219  0.407005  0.373005  6.724512   4.5  3.835360   \n",
       "1  0.288976  0.359377  0.415453  0.378041  5.665722   1.7  3.253796   \n",
       "2  0.331667  0.385996  0.370037  0.376015  7.546049   7.2  9.471366   \n",
       "3  0.253527  0.357813  0.393938  0.383924  7.591786   4.7  5.542986   \n",
       "4  0.236998  0.352940  0.343949  0.374461  5.172414   4.0  4.758392   \n",
       "\n",
       "        FH90                                         geometry  \n",
       "0   6.093580  <pysal.cg.shapes.Polygon object at 0x113f13780>  \n",
       "1   3.869407  <pysal.cg.shapes.Polygon object at 0x113f137f0>  \n",
       "2  14.231738  <pysal.cg.shapes.Polygon object at 0x113f13860>  \n",
       "3   7.125457  <pysal.cg.shapes.Polygon object at 0x113f138d0>  \n",
       "4   9.159159  <pysal.cg.shapes.Polygon object at 0x113f13940>  \n",
       "\n",
       "[5 rows x 70 columns]"
      ]
     },
     "execution_count": 14,
     "metadata": {},
     "output_type": "execute_result"
    }
   ],
   "source": [
    "dataframe.head()\n"
   ]
  },
  {
   "cell_type": "code",
   "execution_count": 15,
   "metadata": {
    "collapsed": true
   },
   "outputs": [],
   "source": [
    "qW = ps.queen_from_shapefile(shp_path, idVariable='FIPS')"
   ]
  },
  {
   "cell_type": "code",
   "execution_count": 21,
   "metadata": {
    "collapsed": false
   },
   "outputs": [
    {
     "data": {
      "text/plain": [
       "{'48111': 1.0, '48195': 1.0, '48205': 1.0, '48233': 1.0, '48341': 1.0}"
      ]
     },
     "execution_count": 21,
     "metadata": {},
     "output_type": "execute_result"
    }
   ],
   "source": [
    "qW['48421']"
   ]
  },
  {
   "cell_type": "code",
   "execution_count": 22,
   "metadata": {
    "collapsed": true
   },
   "outputs": [],
   "source": [
    "self_and_neighbors = ['48357']\n",
    "self_and_neighbors.extend(qW.neighbors['48357'])"
   ]
  },
  {
   "cell_type": "code",
   "execution_count": 23,
   "metadata": {
    "collapsed": false
   },
   "outputs": [
    {
     "data": {
      "text/html": [
       "<div>\n",
       "<table border=\"1\" class=\"dataframe\">\n",
       "  <thead>\n",
       "    <tr style=\"text-align: right;\">\n",
       "      <th></th>\n",
       "      <th>NAME</th>\n",
       "      <th>STATE_NAME</th>\n",
       "      <th>STATE_FIPS</th>\n",
       "      <th>CNTY_FIPS</th>\n",
       "      <th>FIPS</th>\n",
       "      <th>STFIPS</th>\n",
       "      <th>COFIPS</th>\n",
       "      <th>FIPSNO</th>\n",
       "      <th>SOUTH</th>\n",
       "      <th>HR60</th>\n",
       "      <th>...</th>\n",
       "      <th>BLK90</th>\n",
       "      <th>GI59</th>\n",
       "      <th>GI69</th>\n",
       "      <th>GI79</th>\n",
       "      <th>GI89</th>\n",
       "      <th>FH60</th>\n",
       "      <th>FH70</th>\n",
       "      <th>FH80</th>\n",
       "      <th>FH90</th>\n",
       "      <th>geometry</th>\n",
       "    </tr>\n",
       "  </thead>\n",
       "  <tbody>\n",
       "    <tr>\n",
       "      <th>0</th>\n",
       "      <td>Lipscomb</td>\n",
       "      <td>Texas</td>\n",
       "      <td>48</td>\n",
       "      <td>295</td>\n",
       "      <td>48295</td>\n",
       "      <td>48</td>\n",
       "      <td>295</td>\n",
       "      <td>48295</td>\n",
       "      <td>1</td>\n",
       "      <td>0.000000</td>\n",
       "      <td>...</td>\n",
       "      <td>0.031817</td>\n",
       "      <td>0.286929</td>\n",
       "      <td>0.378219</td>\n",
       "      <td>0.407005</td>\n",
       "      <td>0.373005</td>\n",
       "      <td>6.724512</td>\n",
       "      <td>4.5</td>\n",
       "      <td>3.835360</td>\n",
       "      <td>6.093580</td>\n",
       "      <td>&lt;pysal.cg.shapes.Polygon object at 0x113f13780&gt;</td>\n",
       "    </tr>\n",
       "    <tr>\n",
       "      <th>3</th>\n",
       "      <td>Hansford</td>\n",
       "      <td>Texas</td>\n",
       "      <td>48</td>\n",
       "      <td>195</td>\n",
       "      <td>48195</td>\n",
       "      <td>48</td>\n",
       "      <td>195</td>\n",
       "      <td>48195</td>\n",
       "      <td>1</td>\n",
       "      <td>0.000000</td>\n",
       "      <td>...</td>\n",
       "      <td>0.000000</td>\n",
       "      <td>0.253527</td>\n",
       "      <td>0.357813</td>\n",
       "      <td>0.393938</td>\n",
       "      <td>0.383924</td>\n",
       "      <td>7.591786</td>\n",
       "      <td>4.7</td>\n",
       "      <td>5.542986</td>\n",
       "      <td>7.125457</td>\n",
       "      <td>&lt;pysal.cg.shapes.Polygon object at 0x113f138d0&gt;</td>\n",
       "    </tr>\n",
       "    <tr>\n",
       "      <th>4</th>\n",
       "      <td>Ochiltree</td>\n",
       "      <td>Texas</td>\n",
       "      <td>48</td>\n",
       "      <td>357</td>\n",
       "      <td>48357</td>\n",
       "      <td>48</td>\n",
       "      <td>357</td>\n",
       "      <td>48357</td>\n",
       "      <td>1</td>\n",
       "      <td>0.000000</td>\n",
       "      <td>...</td>\n",
       "      <td>0.021911</td>\n",
       "      <td>0.236998</td>\n",
       "      <td>0.352940</td>\n",
       "      <td>0.343949</td>\n",
       "      <td>0.374461</td>\n",
       "      <td>5.172414</td>\n",
       "      <td>4.0</td>\n",
       "      <td>4.758392</td>\n",
       "      <td>9.159159</td>\n",
       "      <td>&lt;pysal.cg.shapes.Polygon object at 0x113f13940&gt;</td>\n",
       "    </tr>\n",
       "    <tr>\n",
       "      <th>5</th>\n",
       "      <td>Roberts</td>\n",
       "      <td>Texas</td>\n",
       "      <td>48</td>\n",
       "      <td>393</td>\n",
       "      <td>48393</td>\n",
       "      <td>48</td>\n",
       "      <td>393</td>\n",
       "      <td>48393</td>\n",
       "      <td>1</td>\n",
       "      <td>0.000000</td>\n",
       "      <td>...</td>\n",
       "      <td>0.000000</td>\n",
       "      <td>0.320275</td>\n",
       "      <td>0.318656</td>\n",
       "      <td>0.398681</td>\n",
       "      <td>0.339626</td>\n",
       "      <td>5.762712</td>\n",
       "      <td>5.3</td>\n",
       "      <td>6.231454</td>\n",
       "      <td>4.885993</td>\n",
       "      <td>&lt;pysal.cg.shapes.Polygon object at 0x113f139b0&gt;</td>\n",
       "    </tr>\n",
       "    <tr>\n",
       "      <th>6</th>\n",
       "      <td>Hemphill</td>\n",
       "      <td>Texas</td>\n",
       "      <td>48</td>\n",
       "      <td>211</td>\n",
       "      <td>48211</td>\n",
       "      <td>48</td>\n",
       "      <td>211</td>\n",
       "      <td>48211</td>\n",
       "      <td>1</td>\n",
       "      <td>0.000000</td>\n",
       "      <td>...</td>\n",
       "      <td>0.188172</td>\n",
       "      <td>0.286707</td>\n",
       "      <td>0.385605</td>\n",
       "      <td>0.352996</td>\n",
       "      <td>0.346318</td>\n",
       "      <td>6.300115</td>\n",
       "      <td>6.9</td>\n",
       "      <td>6.451613</td>\n",
       "      <td>6.330366</td>\n",
       "      <td>&lt;pysal.cg.shapes.Polygon object at 0x113f13a20&gt;</td>\n",
       "    </tr>\n",
       "    <tr>\n",
       "      <th>7</th>\n",
       "      <td>Hutchinson</td>\n",
       "      <td>Texas</td>\n",
       "      <td>48</td>\n",
       "      <td>233</td>\n",
       "      <td>48233</td>\n",
       "      <td>48</td>\n",
       "      <td>233</td>\n",
       "      <td>48233</td>\n",
       "      <td>1</td>\n",
       "      <td>1.936915</td>\n",
       "      <td>...</td>\n",
       "      <td>2.635369</td>\n",
       "      <td>0.199287</td>\n",
       "      <td>0.322579</td>\n",
       "      <td>0.323864</td>\n",
       "      <td>0.370207</td>\n",
       "      <td>5.387316</td>\n",
       "      <td>5.1</td>\n",
       "      <td>6.222679</td>\n",
       "      <td>8.484271</td>\n",
       "      <td>&lt;pysal.cg.shapes.Polygon object at 0x113f13a90&gt;</td>\n",
       "    </tr>\n",
       "  </tbody>\n",
       "</table>\n",
       "<p>6 rows × 70 columns</p>\n",
       "</div>"
      ],
      "text/plain": [
       "         NAME STATE_NAME STATE_FIPS CNTY_FIPS   FIPS  STFIPS  COFIPS  FIPSNO  \\\n",
       "0    Lipscomb      Texas         48       295  48295      48     295   48295   \n",
       "3    Hansford      Texas         48       195  48195      48     195   48195   \n",
       "4   Ochiltree      Texas         48       357  48357      48     357   48357   \n",
       "5     Roberts      Texas         48       393  48393      48     393   48393   \n",
       "6    Hemphill      Texas         48       211  48211      48     211   48211   \n",
       "7  Hutchinson      Texas         48       233  48233      48     233   48233   \n",
       "\n",
       "   SOUTH      HR60                       ...                            BLK90  \\\n",
       "0      1  0.000000                       ...                         0.031817   \n",
       "3      1  0.000000                       ...                         0.000000   \n",
       "4      1  0.000000                       ...                         0.021911   \n",
       "5      1  0.000000                       ...                         0.000000   \n",
       "6      1  0.000000                       ...                         0.188172   \n",
       "7      1  1.936915                       ...                         2.635369   \n",
       "\n",
       "       GI59      GI69      GI79      GI89      FH60  FH70      FH80      FH90  \\\n",
       "0  0.286929  0.378219  0.407005  0.373005  6.724512   4.5  3.835360  6.093580   \n",
       "3  0.253527  0.357813  0.393938  0.383924  7.591786   4.7  5.542986  7.125457   \n",
       "4  0.236998  0.352940  0.343949  0.374461  5.172414   4.0  4.758392  9.159159   \n",
       "5  0.320275  0.318656  0.398681  0.339626  5.762712   5.3  6.231454  4.885993   \n",
       "6  0.286707  0.385605  0.352996  0.346318  6.300115   6.9  6.451613  6.330366   \n",
       "7  0.199287  0.322579  0.323864  0.370207  5.387316   5.1  6.222679  8.484271   \n",
       "\n",
       "                                          geometry  \n",
       "0  <pysal.cg.shapes.Polygon object at 0x113f13780>  \n",
       "3  <pysal.cg.shapes.Polygon object at 0x113f138d0>  \n",
       "4  <pysal.cg.shapes.Polygon object at 0x113f13940>  \n",
       "5  <pysal.cg.shapes.Polygon object at 0x113f139b0>  \n",
       "6  <pysal.cg.shapes.Polygon object at 0x113f13a20>  \n",
       "7  <pysal.cg.shapes.Polygon object at 0x113f13a90>  \n",
       "\n",
       "[6 rows x 70 columns]"
      ]
     },
     "execution_count": 23,
     "metadata": {},
     "output_type": "execute_result"
    }
   ],
   "source": [
    "dataframe.query('FIPS in @self_and_neighbors')\n"
   ]
  },
  {
   "cell_type": "code",
   "execution_count": 24,
   "metadata": {
    "collapsed": false
   },
   "outputs": [
    {
     "data": {
      "text/html": [
       "<div>\n",
       "<table border=\"1\" class=\"dataframe\">\n",
       "  <thead>\n",
       "    <tr style=\"text-align: right;\">\n",
       "      <th></th>\n",
       "      <th>NAME</th>\n",
       "      <th>STATE_NAME</th>\n",
       "      <th>STATE_FIPS</th>\n",
       "      <th>CNTY_FIPS</th>\n",
       "      <th>FIPS</th>\n",
       "      <th>STFIPS</th>\n",
       "      <th>COFIPS</th>\n",
       "      <th>FIPSNO</th>\n",
       "      <th>SOUTH</th>\n",
       "      <th>HR60</th>\n",
       "      <th>...</th>\n",
       "      <th>BLK90</th>\n",
       "      <th>GI59</th>\n",
       "      <th>GI69</th>\n",
       "      <th>GI79</th>\n",
       "      <th>GI89</th>\n",
       "      <th>FH60</th>\n",
       "      <th>FH70</th>\n",
       "      <th>FH80</th>\n",
       "      <th>FH90</th>\n",
       "      <th>geometry</th>\n",
       "    </tr>\n",
       "    <tr>\n",
       "      <th>FIPS</th>\n",
       "      <th></th>\n",
       "      <th></th>\n",
       "      <th></th>\n",
       "      <th></th>\n",
       "      <th></th>\n",
       "      <th></th>\n",
       "      <th></th>\n",
       "      <th></th>\n",
       "      <th></th>\n",
       "      <th></th>\n",
       "      <th></th>\n",
       "      <th></th>\n",
       "      <th></th>\n",
       "      <th></th>\n",
       "      <th></th>\n",
       "      <th></th>\n",
       "      <th></th>\n",
       "      <th></th>\n",
       "      <th></th>\n",
       "      <th></th>\n",
       "      <th></th>\n",
       "    </tr>\n",
       "  </thead>\n",
       "  <tbody>\n",
       "    <tr>\n",
       "      <th>48295</th>\n",
       "      <td>Lipscomb</td>\n",
       "      <td>Texas</td>\n",
       "      <td>48</td>\n",
       "      <td>295</td>\n",
       "      <td>48295</td>\n",
       "      <td>48</td>\n",
       "      <td>295</td>\n",
       "      <td>48295</td>\n",
       "      <td>1</td>\n",
       "      <td>0.0</td>\n",
       "      <td>...</td>\n",
       "      <td>0.031817</td>\n",
       "      <td>0.286929</td>\n",
       "      <td>0.378219</td>\n",
       "      <td>0.407005</td>\n",
       "      <td>0.373005</td>\n",
       "      <td>6.724512</td>\n",
       "      <td>4.5</td>\n",
       "      <td>3.835360</td>\n",
       "      <td>6.093580</td>\n",
       "      <td>&lt;pysal.cg.shapes.Polygon object at 0x113f13780&gt;</td>\n",
       "    </tr>\n",
       "    <tr>\n",
       "      <th>48421</th>\n",
       "      <td>Sherman</td>\n",
       "      <td>Texas</td>\n",
       "      <td>48</td>\n",
       "      <td>421</td>\n",
       "      <td>48421</td>\n",
       "      <td>48</td>\n",
       "      <td>421</td>\n",
       "      <td>48421</td>\n",
       "      <td>1</td>\n",
       "      <td>0.0</td>\n",
       "      <td>...</td>\n",
       "      <td>0.139958</td>\n",
       "      <td>0.288976</td>\n",
       "      <td>0.359377</td>\n",
       "      <td>0.415453</td>\n",
       "      <td>0.378041</td>\n",
       "      <td>5.665722</td>\n",
       "      <td>1.7</td>\n",
       "      <td>3.253796</td>\n",
       "      <td>3.869407</td>\n",
       "      <td>&lt;pysal.cg.shapes.Polygon object at 0x113f137f0&gt;</td>\n",
       "    </tr>\n",
       "    <tr>\n",
       "      <th>48111</th>\n",
       "      <td>Dallam</td>\n",
       "      <td>Texas</td>\n",
       "      <td>48</td>\n",
       "      <td>111</td>\n",
       "      <td>48111</td>\n",
       "      <td>48</td>\n",
       "      <td>111</td>\n",
       "      <td>48111</td>\n",
       "      <td>1</td>\n",
       "      <td>0.0</td>\n",
       "      <td>...</td>\n",
       "      <td>2.050906</td>\n",
       "      <td>0.331667</td>\n",
       "      <td>0.385996</td>\n",
       "      <td>0.370037</td>\n",
       "      <td>0.376015</td>\n",
       "      <td>7.546049</td>\n",
       "      <td>7.2</td>\n",
       "      <td>9.471366</td>\n",
       "      <td>14.231738</td>\n",
       "      <td>&lt;pysal.cg.shapes.Polygon object at 0x113f13860&gt;</td>\n",
       "    </tr>\n",
       "    <tr>\n",
       "      <th>48195</th>\n",
       "      <td>Hansford</td>\n",
       "      <td>Texas</td>\n",
       "      <td>48</td>\n",
       "      <td>195</td>\n",
       "      <td>48195</td>\n",
       "      <td>48</td>\n",
       "      <td>195</td>\n",
       "      <td>48195</td>\n",
       "      <td>1</td>\n",
       "      <td>0.0</td>\n",
       "      <td>...</td>\n",
       "      <td>0.000000</td>\n",
       "      <td>0.253527</td>\n",
       "      <td>0.357813</td>\n",
       "      <td>0.393938</td>\n",
       "      <td>0.383924</td>\n",
       "      <td>7.591786</td>\n",
       "      <td>4.7</td>\n",
       "      <td>5.542986</td>\n",
       "      <td>7.125457</td>\n",
       "      <td>&lt;pysal.cg.shapes.Polygon object at 0x113f138d0&gt;</td>\n",
       "    </tr>\n",
       "    <tr>\n",
       "      <th>48357</th>\n",
       "      <td>Ochiltree</td>\n",
       "      <td>Texas</td>\n",
       "      <td>48</td>\n",
       "      <td>357</td>\n",
       "      <td>48357</td>\n",
       "      <td>48</td>\n",
       "      <td>357</td>\n",
       "      <td>48357</td>\n",
       "      <td>1</td>\n",
       "      <td>0.0</td>\n",
       "      <td>...</td>\n",
       "      <td>0.021911</td>\n",
       "      <td>0.236998</td>\n",
       "      <td>0.352940</td>\n",
       "      <td>0.343949</td>\n",
       "      <td>0.374461</td>\n",
       "      <td>5.172414</td>\n",
       "      <td>4.0</td>\n",
       "      <td>4.758392</td>\n",
       "      <td>9.159159</td>\n",
       "      <td>&lt;pysal.cg.shapes.Polygon object at 0x113f13940&gt;</td>\n",
       "    </tr>\n",
       "  </tbody>\n",
       "</table>\n",
       "<p>5 rows × 70 columns</p>\n",
       "</div>"
      ],
      "text/plain": [
       "            NAME STATE_NAME STATE_FIPS CNTY_FIPS   FIPS  STFIPS  COFIPS  \\\n",
       "FIPS                                                                      \n",
       "48295   Lipscomb      Texas         48       295  48295      48     295   \n",
       "48421    Sherman      Texas         48       421  48421      48     421   \n",
       "48111     Dallam      Texas         48       111  48111      48     111   \n",
       "48195   Hansford      Texas         48       195  48195      48     195   \n",
       "48357  Ochiltree      Texas         48       357  48357      48     357   \n",
       "\n",
       "       FIPSNO  SOUTH  HR60                       ...                         \\\n",
       "FIPS                                             ...                          \n",
       "48295   48295      1   0.0                       ...                          \n",
       "48421   48421      1   0.0                       ...                          \n",
       "48111   48111      1   0.0                       ...                          \n",
       "48195   48195      1   0.0                       ...                          \n",
       "48357   48357      1   0.0                       ...                          \n",
       "\n",
       "          BLK90      GI59      GI69      GI79      GI89      FH60  FH70  \\\n",
       "FIPS                                                                      \n",
       "48295  0.031817  0.286929  0.378219  0.407005  0.373005  6.724512   4.5   \n",
       "48421  0.139958  0.288976  0.359377  0.415453  0.378041  5.665722   1.7   \n",
       "48111  2.050906  0.331667  0.385996  0.370037  0.376015  7.546049   7.2   \n",
       "48195  0.000000  0.253527  0.357813  0.393938  0.383924  7.591786   4.7   \n",
       "48357  0.021911  0.236998  0.352940  0.343949  0.374461  5.172414   4.0   \n",
       "\n",
       "           FH80       FH90                                         geometry  \n",
       "FIPS                                                                         \n",
       "48295  3.835360   6.093580  <pysal.cg.shapes.Polygon object at 0x113f13780>  \n",
       "48421  3.253796   3.869407  <pysal.cg.shapes.Polygon object at 0x113f137f0>  \n",
       "48111  9.471366  14.231738  <pysal.cg.shapes.Polygon object at 0x113f13860>  \n",
       "48195  5.542986   7.125457  <pysal.cg.shapes.Polygon object at 0x113f138d0>  \n",
       "48357  4.758392   9.159159  <pysal.cg.shapes.Polygon object at 0x113f13940>  \n",
       "\n",
       "[5 rows x 70 columns]"
      ]
     },
     "execution_count": 24,
     "metadata": {},
     "output_type": "execute_result"
    }
   ],
   "source": [
    "fips_frame = dataframe.set_index(dataframe.FIPS)\n",
    "fips_frame.head()"
   ]
  },
  {
   "cell_type": "code",
   "execution_count": 25,
   "metadata": {
    "collapsed": true
   },
   "outputs": [],
   "source": [
    "rW = ps.rook_from_shapefile(shp_path, idVariable='FIPS')\n"
   ]
  },
  {
   "cell_type": "code",
   "execution_count": 26,
   "metadata": {
    "collapsed": false
   },
   "outputs": [
    {
     "data": {
      "text/html": [
       "<div>\n",
       "<table border=\"1\" class=\"dataframe\">\n",
       "  <thead>\n",
       "    <tr style=\"text-align: right;\">\n",
       "      <th></th>\n",
       "      <th>NAME</th>\n",
       "      <th>STATE_NAME</th>\n",
       "      <th>STATE_FIPS</th>\n",
       "      <th>CNTY_FIPS</th>\n",
       "      <th>FIPS</th>\n",
       "      <th>STFIPS</th>\n",
       "      <th>COFIPS</th>\n",
       "      <th>FIPSNO</th>\n",
       "      <th>SOUTH</th>\n",
       "      <th>HR60</th>\n",
       "      <th>...</th>\n",
       "      <th>BLK90</th>\n",
       "      <th>GI59</th>\n",
       "      <th>GI69</th>\n",
       "      <th>GI79</th>\n",
       "      <th>GI89</th>\n",
       "      <th>FH60</th>\n",
       "      <th>FH70</th>\n",
       "      <th>FH80</th>\n",
       "      <th>FH90</th>\n",
       "      <th>geometry</th>\n",
       "    </tr>\n",
       "    <tr>\n",
       "      <th>FIPS</th>\n",
       "      <th></th>\n",
       "      <th></th>\n",
       "      <th></th>\n",
       "      <th></th>\n",
       "      <th></th>\n",
       "      <th></th>\n",
       "      <th></th>\n",
       "      <th></th>\n",
       "      <th></th>\n",
       "      <th></th>\n",
       "      <th></th>\n",
       "      <th></th>\n",
       "      <th></th>\n",
       "      <th></th>\n",
       "      <th></th>\n",
       "      <th></th>\n",
       "      <th></th>\n",
       "      <th></th>\n",
       "      <th></th>\n",
       "      <th></th>\n",
       "      <th></th>\n",
       "    </tr>\n",
       "  </thead>\n",
       "  <tbody>\n",
       "    <tr>\n",
       "      <th>48357</th>\n",
       "      <td>Ochiltree</td>\n",
       "      <td>Texas</td>\n",
       "      <td>48</td>\n",
       "      <td>357</td>\n",
       "      <td>48357</td>\n",
       "      <td>48</td>\n",
       "      <td>357</td>\n",
       "      <td>48357</td>\n",
       "      <td>1</td>\n",
       "      <td>0.0</td>\n",
       "      <td>...</td>\n",
       "      <td>0.021911</td>\n",
       "      <td>0.236998</td>\n",
       "      <td>0.352940</td>\n",
       "      <td>0.343949</td>\n",
       "      <td>0.374461</td>\n",
       "      <td>5.172414</td>\n",
       "      <td>4.0</td>\n",
       "      <td>4.758392</td>\n",
       "      <td>9.159159</td>\n",
       "      <td>&lt;pysal.cg.shapes.Polygon object at 0x113f13940&gt;</td>\n",
       "    </tr>\n",
       "    <tr>\n",
       "      <th>48295</th>\n",
       "      <td>Lipscomb</td>\n",
       "      <td>Texas</td>\n",
       "      <td>48</td>\n",
       "      <td>295</td>\n",
       "      <td>48295</td>\n",
       "      <td>48</td>\n",
       "      <td>295</td>\n",
       "      <td>48295</td>\n",
       "      <td>1</td>\n",
       "      <td>0.0</td>\n",
       "      <td>...</td>\n",
       "      <td>0.031817</td>\n",
       "      <td>0.286929</td>\n",
       "      <td>0.378219</td>\n",
       "      <td>0.407005</td>\n",
       "      <td>0.373005</td>\n",
       "      <td>6.724512</td>\n",
       "      <td>4.5</td>\n",
       "      <td>3.835360</td>\n",
       "      <td>6.093580</td>\n",
       "      <td>&lt;pysal.cg.shapes.Polygon object at 0x113f13780&gt;</td>\n",
       "    </tr>\n",
       "    <tr>\n",
       "      <th>48195</th>\n",
       "      <td>Hansford</td>\n",
       "      <td>Texas</td>\n",
       "      <td>48</td>\n",
       "      <td>195</td>\n",
       "      <td>48195</td>\n",
       "      <td>48</td>\n",
       "      <td>195</td>\n",
       "      <td>48195</td>\n",
       "      <td>1</td>\n",
       "      <td>0.0</td>\n",
       "      <td>...</td>\n",
       "      <td>0.000000</td>\n",
       "      <td>0.253527</td>\n",
       "      <td>0.357813</td>\n",
       "      <td>0.393938</td>\n",
       "      <td>0.383924</td>\n",
       "      <td>7.591786</td>\n",
       "      <td>4.7</td>\n",
       "      <td>5.542986</td>\n",
       "      <td>7.125457</td>\n",
       "      <td>&lt;pysal.cg.shapes.Polygon object at 0x113f138d0&gt;</td>\n",
       "    </tr>\n",
       "    <tr>\n",
       "      <th>48393</th>\n",
       "      <td>Roberts</td>\n",
       "      <td>Texas</td>\n",
       "      <td>48</td>\n",
       "      <td>393</td>\n",
       "      <td>48393</td>\n",
       "      <td>48</td>\n",
       "      <td>393</td>\n",
       "      <td>48393</td>\n",
       "      <td>1</td>\n",
       "      <td>0.0</td>\n",
       "      <td>...</td>\n",
       "      <td>0.000000</td>\n",
       "      <td>0.320275</td>\n",
       "      <td>0.318656</td>\n",
       "      <td>0.398681</td>\n",
       "      <td>0.339626</td>\n",
       "      <td>5.762712</td>\n",
       "      <td>5.3</td>\n",
       "      <td>6.231454</td>\n",
       "      <td>4.885993</td>\n",
       "      <td>&lt;pysal.cg.shapes.Polygon object at 0x113f139b0&gt;</td>\n",
       "    </tr>\n",
       "  </tbody>\n",
       "</table>\n",
       "<p>4 rows × 70 columns</p>\n",
       "</div>"
      ],
      "text/plain": [
       "            NAME STATE_NAME STATE_FIPS CNTY_FIPS   FIPS  STFIPS  COFIPS  \\\n",
       "FIPS                                                                      \n",
       "48357  Ochiltree      Texas         48       357  48357      48     357   \n",
       "48295   Lipscomb      Texas         48       295  48295      48     295   \n",
       "48195   Hansford      Texas         48       195  48195      48     195   \n",
       "48393    Roberts      Texas         48       393  48393      48     393   \n",
       "\n",
       "       FIPSNO  SOUTH  HR60                       ...                         \\\n",
       "FIPS                                             ...                          \n",
       "48357   48357      1   0.0                       ...                          \n",
       "48295   48295      1   0.0                       ...                          \n",
       "48195   48195      1   0.0                       ...                          \n",
       "48393   48393      1   0.0                       ...                          \n",
       "\n",
       "          BLK90      GI59      GI69      GI79      GI89      FH60  FH70  \\\n",
       "FIPS                                                                      \n",
       "48357  0.021911  0.236998  0.352940  0.343949  0.374461  5.172414   4.0   \n",
       "48295  0.031817  0.286929  0.378219  0.407005  0.373005  6.724512   4.5   \n",
       "48195  0.000000  0.253527  0.357813  0.393938  0.383924  7.591786   4.7   \n",
       "48393  0.000000  0.320275  0.318656  0.398681  0.339626  5.762712   5.3   \n",
       "\n",
       "           FH80      FH90                                         geometry  \n",
       "FIPS                                                                        \n",
       "48357  4.758392  9.159159  <pysal.cg.shapes.Polygon object at 0x113f13940>  \n",
       "48295  3.835360  6.093580  <pysal.cg.shapes.Polygon object at 0x113f13780>  \n",
       "48195  5.542986  7.125457  <pysal.cg.shapes.Polygon object at 0x113f138d0>  \n",
       "48393  6.231454  4.885993  <pysal.cg.shapes.Polygon object at 0x113f139b0>  \n",
       "\n",
       "[4 rows x 70 columns]"
      ]
     },
     "execution_count": 26,
     "metadata": {},
     "output_type": "execute_result"
    }
   ],
   "source": [
    "self_and_neighbors = ['48357']\n",
    "self_and_neighbors.extend(rW.neighbors['48357'])\n",
    "fips_frame.loc[self_and_neighbors]"
   ]
  },
  {
   "cell_type": "code",
   "execution_count": 27,
   "metadata": {
    "collapsed": true
   },
   "outputs": [],
   "source": [
    "bW = ps.w_difference(qW, rW, constrained=False, silent_island_warning=True) #silence because there will be a lot of warnings"
   ]
  },
  {
   "cell_type": "code",
   "execution_count": 28,
   "metadata": {
    "collapsed": false
   },
   "outputs": [
    {
     "data": {
      "text/plain": [
       "[(0, 161), (1, 48), (2, 33), (3, 8), (4, 4)]"
      ]
     },
     "execution_count": 28,
     "metadata": {},
     "output_type": "execute_result"
    }
   ],
   "source": [
    "bW.histogram\n"
   ]
  },
  {
   "cell_type": "code",
   "execution_count": 29,
   "metadata": {
    "collapsed": true
   },
   "outputs": [],
   "source": [
    "%matplotlib inline\n",
    "import matplotlib.pyplot as plt\n",
    "from pylab import figure, scatter, show"
   ]
  },
  {
   "cell_type": "code",
   "execution_count": 31,
   "metadata": {
    "collapsed": false
   },
   "outputs": [],
   "source": [
    "wq = ps.queen_from_shapefile('/Users/davidleifer/Documents/space-time-analytics/lecture3/content/data/texas.shp')\n"
   ]
  },
  {
   "cell_type": "code",
   "execution_count": 34,
   "metadata": {
    "collapsed": false
   },
   "outputs": [],
   "source": [
    "wq[0]\n",
    "centroids = np.array([list(poly.centroid) for poly in dataframe.geometry])"
   ]
  },
  {
   "cell_type": "code",
   "execution_count": 35,
   "metadata": {
    "collapsed": false
   },
   "outputs": [
    {
     "data": {
      "image/png": "[encoded data removed]",
      "text/plain": [
       "<matplotlib.figure.Figure at 0x114b2f198>"
      ]
     },
     "metadata": {},
     "output_type": "display_data"
    }
   ],
   "source": [
    "fig = figure(figsize=(9,9))\n",
    "plt.plot(centroids[:,0], centroids[:,1],'.')\n",
    "plt.ylim([25,37])\n",
    "show()"
   ]
  },
  {
   "cell_type": "code",
   "execution_count": 36,
   "metadata": {
    "collapsed": false
   },
   "outputs": [
    {
     "name": "stdout",
     "output_type": "stream",
     "text": [
      "et cetera\n"
     ]
    }
   ],
   "source": [
    "print('et cetera')"
   ]
  },
  {
   "cell_type": "code",
   "execution_count": null,
   "metadata": {
    "collapsed": true
   },
   "outputs": [],
   "source": []
  }
 ],
 "metadata": {
  "kernelspec": {
   "display_name": "Python [Root]",
   "language": "python",
   "name": "Python [Root]"
  },
  "language_info": {
   "codemirror_mode": {
    "name": "ipython",
    "version": 3
   },
   "file_extension": ".py",
   "mimetype": "text/x-python",
   "name": "python",
   "nbconvert_exporter": "python",
   "pygments_lexer": "ipython3",
   "version": "3.5.2"
  }
 },
 "nbformat": 4,
 "nbformat_minor": 0
}
