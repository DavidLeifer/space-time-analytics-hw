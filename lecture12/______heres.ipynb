{
 "cells": [
  {
   "cell_type": "markdown",
   "metadata": {},
   "source": [
    "![emoji-anal](emoji-anal.jpeg)"
   ]
  },
  {
   "cell_type": "markdown",
   "metadata": {
    "slideshow": {
     "slide_type": "slide"
    }
   },
   "source": [
    "## Explore the Twitter Data\n",
    "\n",
    "Run ALL the stats!"
   ]
  },
  {
   "cell_type": "code",
   "execution_count": 1,
   "metadata": {
    "collapsed": false
   },
   "outputs": [],
   "source": [
    "#boiler\n",
    "import IPython\n",
    "from IPython.display import IFrame, Image, display, YouTubeVideo\n",
    "import pandas as pd\n",
    "import numpy as np\n",
    "#more boilerplat dawg\n",
    "import matplotlib.pylab as plt\n",
    "import seaborn as sns  # Makes for nicer plots\n",
    "from matplotlib.pylab import rcParams\n",
    "rcParams['figure.figsize'] = 8, 4\n",
    "\n",
    "import pysal as ps\n",
    "import pysal.spatial_dynamics.interaction as interaction\n",
    "from matplotlib.patches import Ellipse, Circle\n",
    "from mpl_toolkits.mplot3d.art3d import Poly3DCollection\n",
    "import mpl_toolkits.mplot3d.art3d as art3d\n",
    "from mpl_toolkits.mplot3d import proj3d\n",
    "from ipywidgets import interact, interactive, fixed\n",
    "\n",
    "from shapely.geometry import Point\n",
    "import geopandas"
   ]
  },
  {
   "cell_type": "code",
   "execution_count": 2,
   "metadata": {
    "collapsed": false,
    "scrolled": true
   },
   "outputs": [
    {
     "data": {
      "text/html": [
       "<div>\n",
       "<table border=\"1\" class=\"dataframe\">\n",
       "  <thead>\n",
       "    <tr style=\"text-align: right;\">\n",
       "      <th></th>\n",
       "      <th>Unnamed: 0</th>\n",
       "      <th>X</th>\n",
       "      <th>Y</th>\n",
       "      <th>polarity</th>\n",
       "      <th>lang</th>\n",
       "      <th>possibly_sensitive</th>\n",
       "      <th>favorited</th>\n",
       "      <th>truncated</th>\n",
       "      <th>geo_enabled</th>\n",
       "      <th>retweeted</th>\n",
       "      <th>...</th>\n",
       "      <th>retweet_count</th>\n",
       "      <th>followers_count</th>\n",
       "      <th>source</th>\n",
       "      <th>text</th>\n",
       "      <th>id_str</th>\n",
       "      <th>id</th>\n",
       "      <th>favorite_count</th>\n",
       "      <th>user</th>\n",
       "      <th>created_at</th>\n",
       "      <th>subjectivity</th>\n",
       "    </tr>\n",
       "  </thead>\n",
       "  <tbody>\n",
       "    <tr>\n",
       "      <th>0</th>\n",
       "      <td>0</td>\n",
       "      <td>-73.995707</td>\n",
       "      <td>40.915150</td>\n",
       "      <td>0.350000</td>\n",
       "      <td>en</td>\n",
       "      <td>0</td>\n",
       "      <td>0</td>\n",
       "      <td>0</td>\n",
       "      <td>1</td>\n",
       "      <td>0</td>\n",
       "      <td>...</td>\n",
       "      <td>0</td>\n",
       "      <td>569</td>\n",
       "      <td>&lt;a href=\"http://twitter.com/download/iphone\" r...</td>\n",
       "      <td>@ChiefKeef i love you so much</td>\n",
       "      <td>537689070819098625</td>\n",
       "      <td>537689070819098625</td>\n",
       "      <td>0</td>\n",
       "      <td>{ \"description\": \"i was born in the 90s fuck t...</td>\n",
       "      <td>Wed Nov 26 19:27:18 +0000 2014</td>\n",
       "      <td>0.400000</td>\n",
       "    </tr>\n",
       "    <tr>\n",
       "      <th>1</th>\n",
       "      <td>1</td>\n",
       "      <td>-73.867459</td>\n",
       "      <td>40.694756</td>\n",
       "      <td>-0.121212</td>\n",
       "      <td>en</td>\n",
       "      <td>0</td>\n",
       "      <td>0</td>\n",
       "      <td>0</td>\n",
       "      <td>1</td>\n",
       "      <td>0</td>\n",
       "      <td>...</td>\n",
       "      <td>0</td>\n",
       "      <td>358</td>\n",
       "      <td>&lt;a href=\"http://twitter.com/download/iphone\" r...</td>\n",
       "      <td>But deadass queens is the MOST BORING PLACE TO...</td>\n",
       "      <td>537689074753363968</td>\n",
       "      <td>537689074753363968</td>\n",
       "      <td>0</td>\n",
       "      <td>{ \"description\": \"UAlbany '17 Queens| Brooklyn...</td>\n",
       "      <td>Wed Nov 26 19:27:19 +0000 2014</td>\n",
       "      <td>0.666667</td>\n",
       "    </tr>\n",
       "    <tr>\n",
       "      <th>2</th>\n",
       "      <td>2</td>\n",
       "      <td>-77.580194</td>\n",
       "      <td>43.148091</td>\n",
       "      <td>0.500000</td>\n",
       "      <td>en</td>\n",
       "      <td>0</td>\n",
       "      <td>0</td>\n",
       "      <td>0</td>\n",
       "      <td>1</td>\n",
       "      <td>0</td>\n",
       "      <td>...</td>\n",
       "      <td>0</td>\n",
       "      <td>1039</td>\n",
       "      <td>&lt;a href=\"http://twitter.com/download/android\" ...</td>\n",
       "      <td>.@RonconesItalian Sure.</td>\n",
       "      <td>537689077295091712</td>\n",
       "      <td>537689077295091712</td>\n",
       "      <td>0</td>\n",
       "      <td>{ \"description\": \"Twitter Conversationalist|SJ...</td>\n",
       "      <td>Wed Nov 26 19:27:20 +0000 2014</td>\n",
       "      <td>0.888889</td>\n",
       "    </tr>\n",
       "    <tr>\n",
       "      <th>3</th>\n",
       "      <td>3</td>\n",
       "      <td>-73.334258</td>\n",
       "      <td>40.727622</td>\n",
       "      <td>0.200000</td>\n",
       "      <td>en</td>\n",
       "      <td>0</td>\n",
       "      <td>0</td>\n",
       "      <td>0</td>\n",
       "      <td>1</td>\n",
       "      <td>0</td>\n",
       "      <td>...</td>\n",
       "      <td>0</td>\n",
       "      <td>533</td>\n",
       "      <td>&lt;a href=\"http://twitter.com/download/iphone\" r...</td>\n",
       "      <td>@BUDAPESTANSEL 😭😭😭😍😩 omg thanks girl hope you ...</td>\n",
       "      <td>537689080981889025</td>\n",
       "      <td>537689080981889025</td>\n",
       "      <td>0</td>\n",
       "      <td>{ \"description\": null, \"lang\": \"en\", \"profile_...</td>\n",
       "      <td>Wed Nov 26 19:27:21 +0000 2014</td>\n",
       "      <td>0.200000</td>\n",
       "    </tr>\n",
       "    <tr>\n",
       "      <th>4</th>\n",
       "      <td>4</td>\n",
       "      <td>-73.903500</td>\n",
       "      <td>40.746400</td>\n",
       "      <td>0.317677</td>\n",
       "      <td>en</td>\n",
       "      <td>0</td>\n",
       "      <td>0</td>\n",
       "      <td>0</td>\n",
       "      <td>1</td>\n",
       "      <td>0</td>\n",
       "      <td>...</td>\n",
       "      <td>0</td>\n",
       "      <td>186</td>\n",
       "      <td>&lt;a href=\"http://www.twitter.com\" rel=\"nofollow...</td>\n",
       "      <td>We're so lucky! @EverythingNYC: Holiday Window...</td>\n",
       "      <td>537689081715884032</td>\n",
       "      <td>537689081715884032</td>\n",
       "      <td>0</td>\n",
       "      <td>{ \"description\": \"Loving Chilean in NY, caring...</td>\n",
       "      <td>Wed Nov 26 19:27:21 +0000 2014</td>\n",
       "      <td>0.662626</td>\n",
       "    </tr>\n",
       "  </tbody>\n",
       "</table>\n",
       "<p>5 rows × 22 columns</p>\n",
       "</div>"
      ],
      "text/plain": [
       "   Unnamed: 0          X          Y  polarity lang  possibly_sensitive  \\\n",
       "0           0 -73.995707  40.915150  0.350000   en                   0   \n",
       "1           1 -73.867459  40.694756 -0.121212   en                   0   \n",
       "2           2 -77.580194  43.148091  0.500000   en                   0   \n",
       "3           3 -73.334258  40.727622  0.200000   en                   0   \n",
       "4           4 -73.903500  40.746400  0.317677   en                   0   \n",
       "\n",
       "   favorited  truncated  geo_enabled  retweeted     ...      retweet_count  \\\n",
       "0          0          0            1          0     ...                  0   \n",
       "1          0          0            1          0     ...                  0   \n",
       "2          0          0            1          0     ...                  0   \n",
       "3          0          0            1          0     ...                  0   \n",
       "4          0          0            1          0     ...                  0   \n",
       "\n",
       "  followers_count                                             source  \\\n",
       "0             569  <a href=\"http://twitter.com/download/iphone\" r...   \n",
       "1             358  <a href=\"http://twitter.com/download/iphone\" r...   \n",
       "2            1039  <a href=\"http://twitter.com/download/android\" ...   \n",
       "3             533  <a href=\"http://twitter.com/download/iphone\" r...   \n",
       "4             186  <a href=\"http://www.twitter.com\" rel=\"nofollow...   \n",
       "\n",
       "                                                text              id_str  \\\n",
       "0                      @ChiefKeef i love you so much  537689070819098625   \n",
       "1  But deadass queens is the MOST BORING PLACE TO...  537689074753363968   \n",
       "2                            .@RonconesItalian Sure.  537689077295091712   \n",
       "3  @BUDAPESTANSEL 😭😭😭😍😩 omg thanks girl hope you ...  537689080981889025   \n",
       "4  We're so lucky! @EverythingNYC: Holiday Window...  537689081715884032   \n",
       "\n",
       "                   id  favorite_count  \\\n",
       "0  537689070819098625               0   \n",
       "1  537689074753363968               0   \n",
       "2  537689077295091712               0   \n",
       "3  537689080981889025               0   \n",
       "4  537689081715884032               0   \n",
       "\n",
       "                                                user  \\\n",
       "0  { \"description\": \"i was born in the 90s fuck t...   \n",
       "1  { \"description\": \"UAlbany '17 Queens| Brooklyn...   \n",
       "2  { \"description\": \"Twitter Conversationalist|SJ...   \n",
       "3  { \"description\": null, \"lang\": \"en\", \"profile_...   \n",
       "4  { \"description\": \"Loving Chilean in NY, caring...   \n",
       "\n",
       "                       created_at subjectivity  \n",
       "0  Wed Nov 26 19:27:18 +0000 2014     0.400000  \n",
       "1  Wed Nov 26 19:27:19 +0000 2014     0.666667  \n",
       "2  Wed Nov 26 19:27:20 +0000 2014     0.888889  \n",
       "3  Wed Nov 26 19:27:21 +0000 2014     0.200000  \n",
       "4  Wed Nov 26 19:27:21 +0000 2014     0.662626  \n",
       "\n",
       "[5 rows x 22 columns]"
      ]
     },
     "execution_count": 2,
     "metadata": {},
     "output_type": "execute_result"
    }
   ],
   "source": [
    "data = \"/lecture12/tweet_subset.csv\"\n",
    "data = pd.read_csv(data,header=0)\n",
    "data.head()"
   ]
  },
  {
   "cell_type": "code",
   "execution_count": 3,
   "metadata": {
    "collapsed": false
   },
   "outputs": [],
   "source": [
    "X = data['X'] #h1\n",
    "Y = data['Y'] #h2\n",
    "fol = data['followers_count'] #h3\n",
    "time = data['created_at'] #h4-this is redfined below as military time\n",
    "pol = data['polarity'] #h5\n",
    "subj = data ['subjectivity'] #6"
   ]
  },
  {
   "cell_type": "code",
   "execution_count": 4,
   "metadata": {
    "collapsed": false
   },
   "outputs": [
    {
     "data": {
      "text/plain": [
       "0    Wed Nov 26 19:27:18 +0000 2014\n",
       "1    Wed Nov 26 19:27:19 +0000 2014\n",
       "2    Wed Nov 26 19:27:20 +0000 2014\n",
       "3    Wed Nov 26 19:27:21 +0000 2014\n",
       "4    Wed Nov 26 19:27:21 +0000 2014\n",
       "Name: created_at, dtype: object"
      ]
     },
     "execution_count": 4,
     "metadata": {},
     "output_type": "execute_result"
    }
   ],
   "source": [
    "time.head()"
   ]
  },
  {
   "cell_type": "code",
   "execution_count": 5,
   "metadata": {
    "collapsed": false
   },
   "outputs": [
    {
     "data": {
      "text/html": [
       "<div>\n",
       "<table border=\"1\" class=\"dataframe\">\n",
       "  <thead>\n",
       "    <tr style=\"text-align: right;\">\n",
       "      <th></th>\n",
       "      <th>created_at</th>\n",
       "    </tr>\n",
       "  </thead>\n",
       "  <tbody>\n",
       "    <tr>\n",
       "      <th>0</th>\n",
       "      <td>Wed Nov 26 19:27:18 +0000 2014</td>\n",
       "    </tr>\n",
       "    <tr>\n",
       "      <th>1</th>\n",
       "      <td>Wed Nov 26 19:27:19 +0000 2014</td>\n",
       "    </tr>\n",
       "    <tr>\n",
       "      <th>2</th>\n",
       "      <td>Wed Nov 26 19:27:20 +0000 2014</td>\n",
       "    </tr>\n",
       "    <tr>\n",
       "      <th>3</th>\n",
       "      <td>Wed Nov 26 19:27:21 +0000 2014</td>\n",
       "    </tr>\n",
       "    <tr>\n",
       "      <th>4</th>\n",
       "      <td>Wed Nov 26 19:27:21 +0000 2014</td>\n",
       "    </tr>\n",
       "  </tbody>\n",
       "</table>\n",
       "</div>"
      ],
      "text/plain": [
       "                       created_at\n",
       "0  Wed Nov 26 19:27:18 +0000 2014\n",
       "1  Wed Nov 26 19:27:19 +0000 2014\n",
       "2  Wed Nov 26 19:27:20 +0000 2014\n",
       "3  Wed Nov 26 19:27:21 +0000 2014\n",
       "4  Wed Nov 26 19:27:21 +0000 2014"
      ]
     },
     "execution_count": 5,
     "metadata": {},
     "output_type": "execute_result"
    }
   ],
   "source": [
    "tm = pd.DataFrame(time)\n",
    "tm.head()"
   ]
  },
  {
   "cell_type": "code",
   "execution_count": 6,
   "metadata": {
    "collapsed": false
   },
   "outputs": [],
   "source": [
    "tm = pd.DataFrame(tm.created_at.str.split(' ',0).tolist(),\n",
    "                  columns = ['Weekday','Month','Day','Time','MS','Year'])"
   ]
  },
  {
   "cell_type": "code",
   "execution_count": 7,
   "metadata": {
    "collapsed": false
   },
   "outputs": [
    {
     "data": {
      "text/html": [
       "<div>\n",
       "<table border=\"1\" class=\"dataframe\">\n",
       "  <thead>\n",
       "    <tr style=\"text-align: right;\">\n",
       "      <th></th>\n",
       "      <th>Weekday</th>\n",
       "      <th>Month</th>\n",
       "      <th>Day</th>\n",
       "      <th>Time</th>\n",
       "      <th>MS</th>\n",
       "      <th>Year</th>\n",
       "    </tr>\n",
       "  </thead>\n",
       "  <tbody>\n",
       "    <tr>\n",
       "      <th>0</th>\n",
       "      <td>Wed</td>\n",
       "      <td>Nov</td>\n",
       "      <td>26</td>\n",
       "      <td>19:27:18</td>\n",
       "      <td>+0000</td>\n",
       "      <td>2014</td>\n",
       "    </tr>\n",
       "    <tr>\n",
       "      <th>1</th>\n",
       "      <td>Wed</td>\n",
       "      <td>Nov</td>\n",
       "      <td>26</td>\n",
       "      <td>19:27:19</td>\n",
       "      <td>+0000</td>\n",
       "      <td>2014</td>\n",
       "    </tr>\n",
       "    <tr>\n",
       "      <th>2</th>\n",
       "      <td>Wed</td>\n",
       "      <td>Nov</td>\n",
       "      <td>26</td>\n",
       "      <td>19:27:20</td>\n",
       "      <td>+0000</td>\n",
       "      <td>2014</td>\n",
       "    </tr>\n",
       "    <tr>\n",
       "      <th>3</th>\n",
       "      <td>Wed</td>\n",
       "      <td>Nov</td>\n",
       "      <td>26</td>\n",
       "      <td>19:27:21</td>\n",
       "      <td>+0000</td>\n",
       "      <td>2014</td>\n",
       "    </tr>\n",
       "    <tr>\n",
       "      <th>4</th>\n",
       "      <td>Wed</td>\n",
       "      <td>Nov</td>\n",
       "      <td>26</td>\n",
       "      <td>19:27:21</td>\n",
       "      <td>+0000</td>\n",
       "      <td>2014</td>\n",
       "    </tr>\n",
       "  </tbody>\n",
       "</table>\n",
       "</div>"
      ],
      "text/plain": [
       "  Weekday Month Day      Time     MS  Year\n",
       "0     Wed   Nov  26  19:27:18  +0000  2014\n",
       "1     Wed   Nov  26  19:27:19  +0000  2014\n",
       "2     Wed   Nov  26  19:27:20  +0000  2014\n",
       "3     Wed   Nov  26  19:27:21  +0000  2014\n",
       "4     Wed   Nov  26  19:27:21  +0000  2014"
      ]
     },
     "execution_count": 7,
     "metadata": {},
     "output_type": "execute_result"
    }
   ],
   "source": [
    "tm.head()"
   ]
  },
  {
   "cell_type": "code",
   "execution_count": 8,
   "metadata": {
    "collapsed": false,
    "scrolled": true
   },
   "outputs": [
    {
     "data": {
      "text/plain": [
       "0    19:27:18\n",
       "1    19:27:19\n",
       "2    19:27:20\n",
       "3    19:27:21\n",
       "4    19:27:21\n",
       "Name: Time, dtype: object"
      ]
     },
     "execution_count": 8,
     "metadata": {},
     "output_type": "execute_result"
    }
   ],
   "source": [
    "time = tm['Time'] #military time\n",
    "time.head()"
   ]
  },
