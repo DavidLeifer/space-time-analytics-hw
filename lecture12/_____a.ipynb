  {
   "cell_type": "markdown",
   "metadata": {},
   "source": [
    "## Map the Twitter Data\n",
    "\n",
    "[Code abbreviated from Bill Mills](https://github.com/BillMills/python-mapping)"
   ]
  },
  {
   "cell_type": "code",
   "execution_count": 9,
   "metadata": {
    "collapsed": false
   },
   "outputs": [],
   "source": [
    "from mpl_toolkits.basemap import Basemap\n",
    "fname = \"/lecture12/tweet_subset.csv\"\n",
    "data=pd.read_csv(fname)\n",
    "lons = np.array(data['X'])\n",
    "lats = np.array(data['Y'])"
   ]
  },
  {
   "cell_type": "code",
   "execution_count": 10,
   "metadata": {
    "collapsed": false
   },
   "outputs": [],
   "source": [
    "xs=map(lons, lats)\n",
    "fig = plt.figure(figsize=(30,30))\n",
    "map = Basemap(projection='merc', lat_0=40.9855, lon_0=-74.1,\n",
    "              resolution = 'h', area_thresh = 0.1,\n",
    "              llcrnrlon=-80, llcrnrlat=39,\n",
    "              urcrnrlon=-70, urcrnrlat=45)"
   ]
  },
  {
   "cell_type": "code",
   "execution_count": 11,
   "metadata": {
    "collapsed": false,
    "scrolled": false
   },
