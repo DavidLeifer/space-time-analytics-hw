{
 "cells": [
  {
   "cell_type": "code",
   "execution_count": 1,
   "metadata": {
    "collapsed": true
   },
   "outputs": [],
   "source": [
    "#boiler\n",
    "import IPython\n",
    "from IPython.display import IFrame, Image, display\n",
    "import pandas as pd\n",
    "import numpy as np\n",
    "#more boilerplat dawg\n",
    "import matplotlib.pylab as plt\n",
    "import seaborn as sns  # Makes for nicer plots\n",
    "from matplotlib.pylab import rcParams\n",
    "rcParams['figure.figsize'] = 8, 4\n",
    "%matplotlib inline\n",
    "\n",
    "import pysal as ps\n",
    "import pysal.spatial_dynamics.interaction as interaction\n",
    "from matplotlib.patches import Ellipse, Circle\n",
    "from mpl_toolkits.mplot3d.art3d import Poly3DCollection\n",
    "import mpl_toolkits.mplot3d.art3d as art3d\n",
    "from mpl_toolkits.mplot3d import proj3d\n",
    "from ipywidgets import interact, interactive, fixed\n",
    "\n",
    "from shapely.geometry import Point\n",
    "import geopandas"
   ]
  },
  {
   "cell_type": "markdown",
   "metadata": {},
   "source": [
    "# National League Regular Season Home Runs\n",
    "\n",
    "*I'm not exactly sure why iframes try to open in the window- beware of those*\n",
    "\n",
    "#### I kind of dislike living at home...\n",
    "\n",
    "As a rule, I'm not a huge fan of sports metaphors, especially from baseball. But it is the post-season and I really have nothing better to do...\n",
    "\n",
    "Here's a list of what I want to do with this Lab:\n",
    "\n",
    "- Tidy some Home Run data\n",
    "- Visualize this Home Run data\n",
    "- It appears as though two CO and MIL sluggers are tied in the NL\n",
    "- It might be interesting to visualize how many NL leaders are from each team\n",
    "- It might be interesting to view HR Distance/velocity off the bat\n",
    "- It might be interesting even more to figure out the x,y,z of the HR path through calculating the angle off the bat/distance. The z value is from the apex or height of the ball. This kind of depends on the data I can find and how long I'm willing to sift through it all.\n",
    "- Initial data comes from [ESPN](http://www.espn.com/mlb/homeruns/_/league/8/type/2)\n",
    "\n",
    "- Columns are as follows:\n",
    "\n",
    " 1. **RK** Stands for rank of player. There are a few gaps for ties which will be interesting to clean.\n",
    " 2. **PLAYER** Really self-explanatory. The page actually has links to each player which might be included.\n",
    " 3. **TEAM** I might add location data to make this more spatial. Quick aside: maybe NOAA and atmospheric pressure for each stadium?\n",
    " 4. **HR** Human Resources OR Home Runs\n",
    " 5. **PROJ** Projected Home Runs. Since the regular season is over, it would be wise to remove this column/variable.\n",
    " 6. **APEX** The highest average point of home run in feet. I should really add a column and convert this unit to a real science distance (meters).\n",
    " 7. **DIST** Distance of ball's flight.\n",
    " 8. **SPD** Is the speed of the ball from the bat in miles per hour.\n",
    " 9. **DUR** How long the ball lasted in the air in seconds.\n",
    " 10. **PARKS** This is the number of parks the slam would be a Home Run. I wonder how ESPN calculates this statistic since the mean distance from home plate to the fence varies not only in each park but also at the angle from home plate to the fence. The only real way to do this would be to take the angle of the ball exiting the park and compare it to each park's distance from the fence at that particular angle.\n",
    " 11. **ND** No doubt AKA the number of really deep blasts.\n",
    " 12. **JE** Just enough or barely clearing the fence. These sometimes are robbed.\n",
    " 13. **W % DELTA** Difference of win percentage before and after the HR. AKA how important was the HR in the team's success?\n",
    " \n",
    "We have the z value. We have the distance. Now if only there were some sort of formula to calculate x,y coordinates... or better yet a spreadsheet with all of that information already compiled.\n",
    "\n",
    "This looks promising: [Home Run Tracking](http://www.hittrackeronline.com/index.php)"
   ]
  },
  {
   "cell_type": "code",
   "execution_count": 7,
   "metadata": {
    "collapsed": true
   },
   "outputs": [],
   "source": [
    "data = \"http://www.espn.com/mlb/homeruns/_/league/8/type/2\"\n",
    "url = \"http://www.espn.com/mlb/player/_/id/31261/nolan-arenado\"\n",
    "#IFrame(data, width=700, height=350)\n",
    "#IFrame(url, width=700, height=350)"
   ]
  },
  {
   "cell_type": "markdown",
   "metadata": {},
   "source": [
    "## PARKS Update\n",
    "\n",
    "After perusing ESPN's hittrackeronline site, it looks like they have paper versions available for each HR's flight path. I'm gonna go out on a limb and say that they also have a digitized version somewhere which would make getting the x,y,z coordinates easier. If not, there's also a way to calculate X,Y information from just the distance/angle of the hit using python... right?\n",
    "\n",
    "An example of the paper version even looks like a graph:\n",
    "\n",
    "![Ballpark Graph Image](werth.jpg \"werth\")\n",
    "\n",
    "There is [Statcast](http://m.mlb.com/statcast/leaderboard#exit-velo,r,2016) which gives exit velocity, distance, batted ball direction (-49-50 degrees) launch angle, etc. Through some maths, this would give me the x,y,z, however some of these attribute fields are not available in the downloadable .csv file. Specifically, the angle from the batter's hit is not included in the downloaded spreadsheet which is essential to calculating the true x,y location (along with distance).\n",
    "\n",
    "I assume more complete data exists somewhere in the .xml/json files which are located in [this here database](http://gd2.mlb.com/components/game/mlb/).\n",
    "\n",
    "Back to tidying and visualizing what data we do have, which for now will boil down to not-real spatial data (for now)."
   ]
  },
  {
   "cell_type": "code",
   "execution_count": 8,
   "metadata": {
    "collapsed": false
   },
   "outputs": [
    {
     "data": {
      "text/html": [
       "<div>\n",
       "<table border=\"1\" class=\"dataframe\">\n",
       "  <thead>\n",
       "    <tr style=\"text-align: right;\">\n",
       "      <th></th>\n",
       "      <th>RK</th>\n",
       "      <th>PLAYER</th>\n",
       "      <th>TEAM</th>\n",
       "      <th>HR</th>\n",
       "      <th>PROJ</th>\n",
       "      <th>APEX</th>\n",
       "      <th>DIST</th>\n",
       "      <th>SPD</th>\n",
       "      <th>DUR</th>\n",
       "      <th>PARKS</th>\n",
       "      <th>ND</th>\n",
       "      <th>JE</th>\n",
       "      <th>W % DELTA</th>\n",
       "    </tr>\n",
       "  </thead>\n",
       "  <tbody>\n",
       "    <tr>\n",
       "      <th>0</th>\n",
       "      <td>1.0</td>\n",
       "      <td>Nolan Arenado</td>\n",
       "      <td>COL</td>\n",
       "      <td>41.0</td>\n",
       "      <td>41.0</td>\n",
       "      <td>89.71</td>\n",
       "      <td>407.81</td>\n",
       "      <td>105.10</td>\n",
       "      <td>4.93</td>\n",
       "      <td>27.46</td>\n",
       "      <td>11.0</td>\n",
       "      <td>9.0</td>\n",
       "      <td>12.9</td>\n",
       "    </tr>\n",
       "    <tr>\n",
       "      <th>1</th>\n",
       "      <td>NaN</td>\n",
       "      <td>NaN</td>\n",
       "      <td>NaN</td>\n",
       "      <td>NaN</td>\n",
       "      <td>NaN</td>\n",
       "      <td>NaN</td>\n",
       "      <td>NaN</td>\n",
       "      <td>NaN</td>\n",
       "      <td>NaN</td>\n",
       "      <td>NaN</td>\n",
       "      <td>NaN</td>\n",
       "      <td>NaN</td>\n",
       "      <td>NaN</td>\n",
       "    </tr>\n",
       "    <tr>\n",
       "      <th>2</th>\n",
       "      <td>NaN</td>\n",
       "      <td>Chris Carter</td>\n",
       "      <td>MIL</td>\n",
       "      <td>41.0</td>\n",
       "      <td>41.0</td>\n",
       "      <td>93.43</td>\n",
       "      <td>410.88</td>\n",
       "      <td>105.49</td>\n",
       "      <td>5.10</td>\n",
       "      <td>24.88</td>\n",
       "      <td>4.0</td>\n",
       "      <td>10.0</td>\n",
       "      <td>12.4</td>\n",
       "    </tr>\n",
       "    <tr>\n",
       "      <th>3</th>\n",
       "      <td>NaN</td>\n",
       "      <td>NaN</td>\n",
       "      <td>NaN</td>\n",
       "      <td>NaN</td>\n",
       "      <td>NaN</td>\n",
       "      <td>NaN</td>\n",
       "      <td>NaN</td>\n",
       "      <td>NaN</td>\n",
       "      <td>NaN</td>\n",
       "      <td>NaN</td>\n",
       "      <td>NaN</td>\n",
       "      <td>NaN</td>\n",
       "      <td>NaN</td>\n",
       "    </tr>\n",
       "    <tr>\n",
       "      <th>4</th>\n",
       "      <td>3.0</td>\n",
       "      <td>Kris Bryant</td>\n",
       "      <td>CHC</td>\n",
       "      <td>39.0</td>\n",
       "      <td>39.0</td>\n",
       "      <td>97.15</td>\n",
       "      <td>405.10</td>\n",
       "      <td>104.49</td>\n",
       "      <td>5.16</td>\n",
       "      <td>25.23</td>\n",
       "      <td>11.0</td>\n",
       "      <td>8.0</td>\n",
       "      <td>11.4</td>\n",
       "    </tr>\n",
       "  </tbody>\n",
       "</table>\n",
       "</div>"
      ],
      "text/plain": [
       "    RK         PLAYER TEAM    HR  PROJ   APEX    DIST     SPD   DUR  PARKS  \\\n",
       "0  1.0  Nolan Arenado  COL  41.0  41.0  89.71  407.81  105.10  4.93  27.46   \n",
       "1  NaN            NaN  NaN   NaN   NaN    NaN     NaN     NaN   NaN    NaN   \n",
       "2  NaN   Chris Carter  MIL  41.0  41.0  93.43  410.88  105.49  5.10  24.88   \n",
       "3  NaN            NaN  NaN   NaN   NaN    NaN     NaN     NaN   NaN    NaN   \n",
       "4  3.0    Kris Bryant  CHC  39.0  39.0  97.15  405.10  104.49  5.16  25.23   \n",
       "\n",
       "     ND    JE  W % DELTA  \n",
       "0  11.0   9.0       12.9  \n",
       "1   NaN   NaN        NaN  \n",
       "2   4.0  10.0       12.4  \n",
       "3   NaN   NaN        NaN  \n",
       "4  11.0   8.0       11.4  "
      ]
     },
     "execution_count": 8,
     "metadata": {},
     "output_type": "execute_result"
    }
   ],
   "source": [
    "data = pd.read_html(data,header=1)\n",
    "data[0].head()"
   ]
  },
  {
   "cell_type": "code",
   "execution_count": 9,
   "metadata": {
    "collapsed": false
   },
   "outputs": [
    {
     "data": {
      "text/html": [
       "<div>\n",
       "<table border=\"1\" class=\"dataframe\">\n",
       "  <thead>\n",
       "    <tr style=\"text-align: right;\">\n",
       "      <th></th>\n",
       "      <th>PLAYER</th>\n",
       "      <th>TEAM</th>\n",
       "      <th>HR</th>\n",
       "      <th>APEX</th>\n",
       "      <th>DIST</th>\n",
       "      <th>SPD</th>\n",
       "      <th>DUR</th>\n",
       "      <th>PARKS</th>\n",
       "      <th>ND</th>\n",
       "      <th>JE</th>\n",
       "      <th>W % DELTA</th>\n",
       "    </tr>\n",
       "  </thead>\n",
       "  <tbody>\n",
       "    <tr>\n",
       "      <th>0</th>\n",
       "      <td>Nolan Arenado</td>\n",
       "      <td>COL</td>\n",
       "      <td>41.0</td>\n",
       "      <td>89.71</td>\n",
       "      <td>407.81</td>\n",
       "      <td>105.10</td>\n",
       "      <td>4.93</td>\n",
       "      <td>27.46</td>\n",
       "      <td>11.0</td>\n",
       "      <td>9.0</td>\n",
       "      <td>12.9</td>\n",
       "    </tr>\n",
       "    <tr>\n",
       "      <th>1</th>\n",
       "      <td>NaN</td>\n",
       "      <td>NaN</td>\n",
       "      <td>NaN</td>\n",
       "      <td>NaN</td>\n",
       "      <td>NaN</td>\n",
       "      <td>NaN</td>\n",
       "      <td>NaN</td>\n",
       "      <td>NaN</td>\n",
       "      <td>NaN</td>\n",
       "      <td>NaN</td>\n",
       "      <td>NaN</td>\n",
       "    </tr>\n",
       "    <tr>\n",
       "      <th>2</th>\n",
       "      <td>Chris Carter</td>\n",
       "      <td>MIL</td>\n",
       "      <td>41.0</td>\n",
       "      <td>93.43</td>\n",
       "      <td>410.88</td>\n",
       "      <td>105.49</td>\n",
       "      <td>5.10</td>\n",
       "      <td>24.88</td>\n",
       "      <td>4.0</td>\n",
       "      <td>10.0</td>\n",
       "      <td>12.4</td>\n",
       "    </tr>\n",
       "    <tr>\n",
       "      <th>3</th>\n",
       "      <td>NaN</td>\n",
       "      <td>NaN</td>\n",
       "      <td>NaN</td>\n",
       "      <td>NaN</td>\n",
       "      <td>NaN</td>\n",
       "      <td>NaN</td>\n",
       "      <td>NaN</td>\n",
       "      <td>NaN</td>\n",
       "      <td>NaN</td>\n",
       "      <td>NaN</td>\n",
       "      <td>NaN</td>\n",
       "    </tr>\n",
       "    <tr>\n",
       "      <th>4</th>\n",
       "      <td>Kris Bryant</td>\n",
       "      <td>CHC</td>\n",
       "      <td>39.0</td>\n",
       "      <td>97.15</td>\n",
       "      <td>405.10</td>\n",
       "      <td>104.49</td>\n",
       "      <td>5.16</td>\n",
       "      <td>25.23</td>\n",
       "      <td>11.0</td>\n",
       "      <td>8.0</td>\n",
       "      <td>11.4</td>\n",
       "    </tr>\n",
       "  </tbody>\n",
       "</table>\n",
       "</div>"
      ],
      "text/plain": [
       "          PLAYER TEAM    HR   APEX    DIST     SPD   DUR  PARKS    ND    JE  \\\n",
       "0  Nolan Arenado  COL  41.0  89.71  407.81  105.10  4.93  27.46  11.0   9.0   \n",
       "1            NaN  NaN   NaN    NaN     NaN     NaN   NaN    NaN   NaN   NaN   \n",
       "2   Chris Carter  MIL  41.0  93.43  410.88  105.49  5.10  24.88   4.0  10.0   \n",
       "3            NaN  NaN   NaN    NaN     NaN     NaN   NaN    NaN   NaN   NaN   \n",
       "4    Kris Bryant  CHC  39.0  97.15  405.10  104.49  5.16  25.23  11.0   8.0   \n",
       "\n",
       "   W % DELTA  \n",
       "0       12.9  \n",
       "1        NaN  \n",
       "2       12.4  \n",
       "3        NaN  \n",
       "4       11.4  "
      ]
     },
     "execution_count": 9,
     "metadata": {},
     "output_type": "execute_result"
    }
   ],
   "source": [
    "data[0].drop(['RK','PROJ'], axis=1, inplace=True)\n",
    "data[0].head()"
   ]
  },
  {
   "cell_type": "code",
   "execution_count": 10,
   "metadata": {
    "collapsed": false
   },
   "outputs": [
    {
     "data": {
      "text/html": [
       "<div>\n",
       "<table border=\"1\" class=\"dataframe\">\n",
       "  <thead>\n",
       "    <tr style=\"text-align: right;\">\n",
       "      <th></th>\n",
       "      <th>PLAYER</th>\n",
       "      <th>TEAM</th>\n",
       "      <th>HR</th>\n",
       "      <th>APEX</th>\n",
       "      <th>DIST</th>\n",
       "      <th>SPD</th>\n",
       "      <th>DUR</th>\n",
       "      <th>PARKS</th>\n",
       "      <th>ND</th>\n",
       "      <th>JE</th>\n",
       "      <th>W % DELTA</th>\n",
       "    </tr>\n",
       "  </thead>\n",
       "  <tbody>\n",
       "    <tr>\n",
       "      <th>0</th>\n",
       "      <td>Nolan Arenado</td>\n",
       "      <td>COL</td>\n",
       "      <td>41.0</td>\n",
       "      <td>89.71</td>\n",
       "      <td>407.81</td>\n",
       "      <td>105.10</td>\n",
       "      <td>4.93</td>\n",
       "      <td>27.46</td>\n",
       "      <td>11.0</td>\n",
       "      <td>9.0</td>\n",
       "      <td>12.9</td>\n",
       "    </tr>\n",
       "    <tr>\n",
       "      <th>2</th>\n",
       "      <td>Chris Carter</td>\n",
       "      <td>MIL</td>\n",
       "      <td>41.0</td>\n",
       "      <td>93.43</td>\n",
       "      <td>410.88</td>\n",
       "      <td>105.49</td>\n",
       "      <td>5.10</td>\n",
       "      <td>24.88</td>\n",
       "      <td>4.0</td>\n",
       "      <td>10.0</td>\n",
       "      <td>12.4</td>\n",
       "    </tr>\n",
       "    <tr>\n",
       "      <th>4</th>\n",
       "      <td>Kris Bryant</td>\n",
       "      <td>CHC</td>\n",
       "      <td>39.0</td>\n",
       "      <td>97.15</td>\n",
       "      <td>405.10</td>\n",
       "      <td>104.49</td>\n",
       "      <td>5.16</td>\n",
       "      <td>25.23</td>\n",
       "      <td>11.0</td>\n",
       "      <td>8.0</td>\n",
       "      <td>11.4</td>\n",
       "    </tr>\n",
       "    <tr>\n",
       "      <th>6</th>\n",
       "      <td>Matt Kemp</td>\n",
       "      <td>ATL</td>\n",
       "      <td>34.0</td>\n",
       "      <td>91.91</td>\n",
       "      <td>407.88</td>\n",
       "      <td>104.55</td>\n",
       "      <td>5.12</td>\n",
       "      <td>26.44</td>\n",
       "      <td>6.0</td>\n",
       "      <td>7.0</td>\n",
       "      <td>12.0</td>\n",
       "    </tr>\n",
       "    <tr>\n",
       "      <th>8</th>\n",
       "      <td>Adam Duvall</td>\n",
       "      <td>CIN</td>\n",
       "      <td>33.0</td>\n",
       "      <td>87.09</td>\n",
       "      <td>399.67</td>\n",
       "      <td>104.61</td>\n",
       "      <td>4.83</td>\n",
       "      <td>23.85</td>\n",
       "      <td>9.0</td>\n",
       "      <td>12.0</td>\n",
       "      <td>12.8</td>\n",
       "    </tr>\n",
       "  </tbody>\n",
       "</table>\n",
       "</div>"
      ],
      "text/plain": [
       "          PLAYER TEAM    HR   APEX    DIST     SPD   DUR  PARKS    ND    JE  \\\n",
       "0  Nolan Arenado  COL  41.0  89.71  407.81  105.10  4.93  27.46  11.0   9.0   \n",
       "2   Chris Carter  MIL  41.0  93.43  410.88  105.49  5.10  24.88   4.0  10.0   \n",
       "4    Kris Bryant  CHC  39.0  97.15  405.10  104.49  5.16  25.23  11.0   8.0   \n",
       "6      Matt Kemp  ATL  34.0  91.91  407.88  104.55  5.12  26.44   6.0   7.0   \n",
       "8    Adam Duvall  CIN  33.0  87.09  399.67  104.61  4.83  23.85   9.0  12.0   \n",
       "\n",
       "   W % DELTA  \n",
       "0       12.9  \n",
       "2       12.4  \n",
       "4       11.4  \n",
       "6       12.0  \n",
       "8       12.8  "
      ]
     },
     "execution_count": 10,
     "metadata": {},
     "output_type": "execute_result"
    }
   ],
   "source": [
    "df = data[0].iloc[::2, :]\n",
    "df.head()"
   ]
  },
  {
   "cell_type": "code",
   "execution_count": 11,
   "metadata": {
    "collapsed": false
   },
   "outputs": [
    {
     "data": {
      "text/plain": [
       "<matplotlib.axes._subplots.AxesSubplot at 0x11aa7e278>"
      ]
     },
     "execution_count": 11,
     "metadata": {},
     "output_type": "execute_result"
    },
    {
     "data": {
      "image/png": "[encoded data removed]",
      "text/plain": [
       "<matplotlib.figure.Figure at 0x11aa7eba8>"
      ]
     },
     "metadata": {},
     "output_type": "display_data"
    }
   ],
   "source": [
    "df.boxplot(column = 'HR', by = 'TEAM')"
   ]
  },
  {
   "cell_type": "code",
   "execution_count": 12,
   "metadata": {
    "collapsed": false
   },
   "outputs": [
    {
     "data": {
      "image/png": "[encoded data removed]",
      "text/plain": [
       "<matplotlib.figure.Figure at 0x11d4568d0>"
      ]
     },
     "metadata": {},
     "output_type": "display_data"
    }
   ],
   "source": [
    "corr = df.DIST.corr(df.APEX)\n",
    "ax = sns.regplot(x=\"DIST\", y=\"APEX\",\n",
    "                 data=df).set_title(\"Correlation: {:.4}\".format(corr))"
   ]
  },
  {
   "cell_type": "code",
   "execution_count": 13,
   "metadata": {
    "collapsed": false
   },
   "outputs": [
    {
     "data": {
      "image/png": "[encoded data removed]",
      "text/plain": [
       "<matplotlib.figure.Figure at 0x11da90320>"
      ]
     },
     "metadata": {},
     "output_type": "display_data"
    }
   ],
   "source": [
    "corr = df.SPD.corr(df.DIST)\n",
    "ax = sns.regplot(x=\"SPD\", y=\"DIST\",\n",
    "                 data=df).set_title(\"Correlation: {:.4}\".format(corr))"
   ]
  },
  {
   "cell_type": "markdown",
   "metadata": {},
   "source": [
    "The boxplot gives a nice visual of the average number of HRs hit by each team based on the top 50 HR hitters in the NL. I think the top spread of CO got altered because the max spread should be above the MIL max. A few teams have more observations of HR hitters in the top 50. This doesn't really prove anything but looks cool.\n",
    "\n",
    "\n",
    "Distance and height have a negative correlation when plotted in a simple correlation graph measuring the slope of the regression line through the two variables. This makes sense since ultra high balls usually don't go anywhere. According to basic physics, a ball leaving the bat at 45 degrees would be most optimal in a vacuum of space with no external variables. Since this type of vacuum doesn't exist, it would make sense to see how exit velocity and distance correlates, especially with added variables like atmospheric pressure/weather/spatial location. But that's a question for another dataset.\n",
    "\n",
    "A simple correlation between the speed of the ball leaving the bat (SPD) and the distance (DIST) the ball traveled has a value of .85. Neat! \n",
    "\n",
    "Let's take this a step further and try to compute a knox test to find out the space-time relationship between SPD, DIST, and DUR (time spent in the air). The speed and distance will substitute for the spatial component and duration in the air will act as the time component.\n",
    "\n",
    "To test this using pysal, we need to convert the dataframe to a shapefile, which is easy to do with shapely and geopandas."
   ]
  },
  {
   "cell_type": "code",
   "execution_count": 14,
   "metadata": {
    "collapsed": false
   },
   "outputs": [
    {
     "name": "stderr",
     "output_type": "stream",
     "text": [
      "/Users/davidleifer/anaconda/lib/python3.5/site-packages/ipykernel/__main__.py:1: SettingWithCopyWarning: \n",
      "A value is trying to be set on a copy of a slice from a DataFrame.\n",
      "Try using .loc[row_indexer,col_indexer] = value instead\n",
      "\n",
      "See the caveats in the documentation: http://pandas.pydata.org/pandas-docs/stable/indexing.html#indexing-view-versus-copy\n",
      "  if __name__ == '__main__':\n"
     ]
    }
   ],
   "source": [
    "df['geometry'] = df.apply(lambda x: Point((float(x.DIST), float(x.SPD))), axis=1)\n",
    "df = geopandas.GeoDataFrame(df, geometry='geometry')\n",
    "df.to_file('hr.shp', driver='ESRI Shapefile')"
   ]
  },
  {
   "cell_type": "code",
   "execution_count": 15,
   "metadata": {
    "collapsed": true
   },
   "outputs": [],
   "source": [
    "path = \"hr.shp\"\n",
    "burkitt = ps.pdio.read_files(path)\n",
    "events = interaction.SpaceTimeEvents(path,'DUR')"
   ]
  },
  {
   "cell_type": "code",
   "execution_count": 16,
   "metadata": {
    "collapsed": false
   },
   "outputs": [
    {
     "data": {
      "image/png": "[encoded data removed]",
      "text/plain": [
       "<matplotlib.figure.Figure at 0x11daac588>"
      ]
     },
     "metadata": {},
     "output_type": "display_data"
    }
   ],
   "source": [
    "ax = plt.figure(figsize=(6, 4)).gca()\n",
    "ax.plot(events.space[:, 0], events.space[:, 1], \".\")\n",
    "ax.set_xlabel(\"HR Distance (ft)\")\n",
    "ax.set_ylabel(\"Speed of Ball (mph)\")\n",
    "plt.show()"
   ]
  },
  {
   "cell_type": "code",
   "execution_count": 17,
   "metadata": {
    "collapsed": false
   },
   "outputs": [
    {
     "data": {
      "image/png": "[encoded data removed]",
      "text/plain": [
       "<matplotlib.figure.Figure at 0x11d456ba8>"
      ]
     },
     "metadata": {},
     "output_type": "display_data"
    }
   ],
   "source": [
    "ax = plt.figure(figsize=(6, 1)).gca()\n",
    "ax.vlines(events.t[:, 0], 0, 1)\n",
    "ax.set_xlabel(\"Time Units\")\n",
    "plt.tick_params(axis='y', which='both', labelleft='off') \n",
    "plt.show()"
   ]
  },
  {
   "cell_type": "code",
   "execution_count": 18,
   "metadata": {
    "collapsed": false
   },
   "outputs": [
    {
     "data": {
      "image/png": "[encoded data removed]",
      "text/plain": [
       "<matplotlib.figure.Figure at 0x11e68df28>"
      ]
     },
     "metadata": {},
     "output_type": "display_data"
    }
   ],
   "source": [
    "@interact(angle=(0, 240, 5))  # That's all it takes to make it interactive :)\n",
    "def make_plot(angle):\n",
    "    fig = plt.figure(figsize=(6, 5))\n",
    "    ax = fig.gca(projection='3d')\n",
    "    ax.view_init(30, angle)  # Use 'angle' parameter\n",
    "    ax.set_ylabel(\"Speed of Ball (mph)\")\n",
    "    ax.set_xlabel(\"HR Distance (ft)\")\n",
    "    ax.set_zlabel(\"Time of Ball in the Air (sec)\")\n",
    "    ax.plot(events.space[:,0], events.space[:,1], events.t[:,0], \".\")\n",
    "    plt.show()"
   ]
  },
  {
   "cell_type": "code",
   "execution_count": 26,
   "metadata": {
    "collapsed": false
   },
   "outputs": [
    {
     "data": {
      "text/plain": [
       "{'pvalue': array([ 0.11]), 'stat': 31}"
      ]
     },
     "execution_count": 26,
     "metadata": {},
     "output_type": "execute_result"
    }
   ],
   "source": [
    "result = interaction.knox(events.space, events.t, delta=1, tau=.25, permutations=99)\n",
    "result"
   ]
  },
  {
   "cell_type": "markdown",
   "metadata": {},
   "source": [
    "Now we have real data living in space-time, just not on this planet. Let's run some more stats from the lecture 4 homework.\n",
    "\n",
    "## Modified Knox Test\n",
    "Just because it was close(ish) in distance doesn't mean it was close(ish) in time. The Modified Knox Test kind of takes care of that.\n",
    "\n",
    "$$T = \\frac{1}{2}(\\Sigma^n_{i=1} \\Sigma^n_{j=1} f_{i j} g_{i j} - \\frac{1}{n-1} \\Sigma^n_{k=1} \\Sigma^n_{l=1} \\Sigma^n_{j=1} f_{kj} g_{lj})$$\n",
    "\n",
    "Where $n$ = number of events, $f$ = adjacency in space, $g$ = adjacency in time (calculated in a manner equivalent to $a^{s}$ and $a^{t}$ above in the Knox test). The first part of this statistic is equivalent to the original Knox test, while the second part is the expected value under spatio-temporal randomness."
   ]
  },
  {
   "cell_type": "code",
   "execution_count": 27,
   "metadata": {
    "collapsed": false
   },
   "outputs": [
    {
     "data": {
      "text/plain": [
       "{'pvalue': 0.35999999999999999, 'stat': 1.6428571428571459}"
      ]
     },
     "execution_count": 27,
     "metadata": {},
     "output_type": "execute_result"
    }
   ],
   "source": [
    "result = interaction.modified_knox(events.space, events.t, delta=1, tau=.25, permutations=99)\n",
    "result"
   ]
  },
  {
   "cell_type": "markdown",
   "metadata": {},
   "source": [
    "I've used event counts closer than 1 unit in space and .25 units in time with 99 permutations.\n",
    "## Mantel Test\n",
    "The Mantel test *keeps* distance information discarded by the Knox tests. *Unstandardized* Mantel stat is calculated by summing the product of spatial and temporal distances between pairs.\n",
    "## Unstandardized Mantel Test\n",
    "$$ Z = \\Sigma^n_i \\Sigma^n_j (d^s_{i j} + c)^p(d^t_{i j} + c)^p $$\n",
    "Where, again, $d^{s}$ and $d^{t}$ denote distance in space and time. The constant, $c$, and the power, $p$, usually default to 0 and 1 (binary?).\n",
    "## Standardized Mantel Test\n",
    "$$ r = \\frac{1}{n^2 - n - 1} \\Sigma^n_i \\Sigma^n_j \\Bigg[\\frac{d^s_{ij} - \\bar{d^s}}{\\sigma_{d^s}}\\Bigg] \\Bigg[\\frac{d^t_{ij} - \\bar{d^t}}{\\sigma_{d^t}}\\Bigg] $$\n",
    "\n",
    "Where $\\bar{d^{s}}$ refers to the average distance in space, and $\\bar{d^{t}}$ the average distance in time. For notational convenience $\\sigma_{d^{t}}$ and $\\sigma_{d^{t}}$ refer to the sample (not population) standard deviations, for distance in space and time, respectively."
   ]
  },
  {
   "cell_type": "code",
   "execution_count": 28,
   "metadata": {
    "collapsed": false
   },
   "outputs": [
    {
     "name": "stderr",
     "output_type": "stream",
     "text": [
      "/Users/davidleifer/anaconda/lib/python3.5/site-packages/numpy/core/fromnumeric.py:48: VisibleDeprecationWarning: using a non-integer number instead of an integer will result in an error in the future\n",
      "  result = getattr(asarray(obj), method)(*args, **kwds)\n"
     ]
    },
    {
     "data": {
      "text/plain": [
       "{'pvalue': 0.70999999999999996, 'stat': -0.036547539535649536}"
      ]
     },
     "execution_count": 28,
     "metadata": {},
     "output_type": "execute_result"
    }
   ],
   "source": [
    "result = interaction.mantel(events.space, events.t, permutations=99, scon=0.0, spow=1.0, tcon=0.0, tpow=1.0)\n",
    "result"
   ]
  },
  {
   "cell_type": "markdown",
   "metadata": {},
   "source": [
    "This type of stat is a Pearson correlation coefficient. Extreme values could distort the relationship and large samples are required to produce an accurate estimate. Correlations tend to be small since it compares all pairs of observations.\n",
    "\n",
    "## Jacquez Test\n",
    "\n",
    "This is a fix if we don't know what distances to use and instead substitutes a nearest neighbor distance approach. Maths:\n",
    "\n",
    "$$a^t_{ijk} =\n",
    "\\left\\{\n",
    "    \\begin{array}{ll}\n",
    "        1,  & \\mbox{if } event j is k nearest neighbor of event i in space \\\\\n",
    "        {0,} & \\mbox{otherwise }\n",
    "    \\end{array}\n",
    "\\right.$$\n",
    "\n",
    "(lolz @ ijk)\n",
    "Where $n$ = number of cases; $a^{s}$ = adjacency in space; $a^{t}$ = adjacency in time."
   ]
  },
  {
   "cell_type": "code",
   "execution_count": 38,
   "metadata": {
    "collapsed": false
   },
   "outputs": [
    {
     "data": {
      "text/plain": [
       "{'pvalue': 0.23000000000000001, 'stat': 13}"
      ]
     },
     "execution_count": 38,
     "metadata": {},
     "output_type": "execute_result"
    }
   ],
   "source": [
    "result = interaction.jacquez(events.space, events.t ,k=3,permutations=99)\n",
    "result"
   ]
  },
  {
   "cell_type": "markdown",
   "metadata": {},
   "source": [
    "Since there is not enough evidence from these tests (p-value was above .05), we fail to reject the null hypothesis of space-time interaction.\n",
    "\n",
    "# Finding Actual x,y,z Data\n",
    "\n",
    "This isn't real x,y,z data of the ball's flight path like I initially set out to find. Rather, it's more of a spatial cluster examination between speed, distance, and duration of the ball's flight when these attributes are plotted.\n",
    "\n",
    "The next step for this would be to sift through the .xml/json data ([MLB Database](http://gd2.mlb.com/components/game/mlb/)) to get the batted ball distance, exit velocity, distance, etc. and combine this information with NOAA data ([NOAA](https://www.ncdc.noaa.gov/data-access/land-based-station-data/land-based-datasets/quality-controlled-local-climatological-data-qclcd)) and atmospheric pressure to construct a machine learning algorithm to predict the location of a hit.\n",
    "\n",
    "And someone actually does that here: [Hit Prediction](http://www.hardballtimes.com/using-statcast-data-to-predict-hits/). From this they used launch angle, batted ball speed, overall distance of the hit, and the location in x,y to feed a [modified random forest algorithm](https://www.youtube.com/watch?v=loNcrMjYh64), which is basically a collection of decorrelated decision trees. The Hardball website (most likely named for [this baseball movie starring Neo](https://www.youtube.com/watch?v=mb7Gupu3M2Y)) also looked at the impact of atmospheric conditions on flight trajectory: [Going Deep](http://www.hardballtimes.com/going-deep-on-goin-deep/). This article looks at the spatial component of ballparks in how weather and pressure influence the ball's flight path. I will probably delve deeper into this portion since Denver is such a statistical anomaly.\n",
    "\n",
    "Colorado apparently is fun to play in.\n",
    "![Ballpark](coorsSUN.png \"werth\")"
   ]
  },
  {
   "cell_type": "code",
   "execution_count": null,
   "metadata": {
    "collapsed": true
   },
   "outputs": [],
   "source": []
  }
 ],
 "metadata": {
  "anaconda-cloud": {},
  "kernelspec": {
   "display_name": "Python 3",
   "language": "python",
   "name": "python3"
  },
  "language_info": {
   "codemirror_mode": {
    "name": "ipython",
    "version": 3
   },
   "file_extension": ".py",
   "mimetype": "text/x-python",
   "name": "python",
   "nbconvert_exporter": "python",
   "pygments_lexer": "ipython3",
   "version": "3.6.0"
  }
 },
 "nbformat": 4,
 "nbformat_minor": 0
}
